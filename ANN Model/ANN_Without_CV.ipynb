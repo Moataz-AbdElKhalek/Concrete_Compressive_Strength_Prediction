{
 "cells": [
  {
   "cell_type": "code",
   "execution_count": 6,
   "metadata": {
    "executionInfo": {
     "elapsed": 332,
     "status": "ok",
     "timestamp": 1606306344868,
     "user": {
      "displayName": "Moataz Abdelkhalek",
      "photoUrl": "https://lh3.googleusercontent.com/-cWgl_8LsCOg/AAAAAAAAAAI/AAAAAAAAAAQ/8JrJ9pLxt5E/s64/photo.jpg",
      "userId": "06740322585421175820"
     },
     "user_tz": 360
    },
    "id": "lQg_lUscFdBc"
   },
   "outputs": [],
   "source": [
    "# Importing relevant modules\n",
    "import numpy\n",
    "import pandas as pd\n",
    "import matplotlib\n",
    "%matplotlib inline\n",
    "import itertools\n",
    "import IPython.display\n",
    "from tqdm import tqdm_notebook as tqdm\n",
    "import sklearn\n",
    "import sklearn.model_selection\n",
    "import sklearn.neural_network\n",
    "import sklearn.model_selection\n",
    "\n",
    "# Ignoring warnings\n",
    "import warnings\n",
    "warnings.filterwarnings(\"ignore\")"
   ]
  },
  {
   "cell_type": "code",
   "execution_count": 7,
   "metadata": {
    "colab": {
     "base_uri": "https://localhost:8080/"
    },
    "executionInfo": {
     "elapsed": 382,
     "status": "ok",
     "timestamp": 1606306348806,
     "user": {
      "displayName": "Moataz Abdelkhalek",
      "photoUrl": "https://lh3.googleusercontent.com/-cWgl_8LsCOg/AAAAAAAAAAI/AAAAAAAAAAQ/8JrJ9pLxt5E/s64/photo.jpg",
      "userId": "06740322585421175820"
     },
     "user_tz": 360
    },
    "id": "2mVrOdVhsubO",
    "outputId": "7ac0bb92-2d0e-42ab-a907-66f0c1ac85e0"
   },
   "outputs": [
    {
     "name": "stdout",
     "output_type": "stream",
     "text": [
      "      X1     X2   X3     X4   X5      X6     X7     X8    y\n",
      "0  540.0    0.0  0.0  162.0  2.5  1040.0  676.0   28.0  1.0\n",
      "1  540.0    0.0  0.0  162.0  2.5  1055.0  676.0   28.0  1.0\n",
      "2  332.5  142.5  0.0  228.0  0.0   932.0  594.0  270.0  1.0\n",
      "3  332.5  142.5  0.0  228.0  0.0   932.0  594.0  365.0  1.0\n",
      "\n",
      "Dataset has 1030 rows and 9 columns\n",
      "\n",
      "0    1.0\n",
      "1    1.0\n",
      "2    1.0\n",
      "3    1.0\n",
      "Name: y, dtype: float64\n",
      "(1030,)\n",
      "\n",
      "      X1     X2   X3     X4   X5      X6     X7     X8\n",
      "0  540.0    0.0  0.0  162.0  2.5  1040.0  676.0   28.0\n",
      "1  540.0    0.0  0.0  162.0  2.5  1055.0  676.0   28.0\n",
      "2  332.5  142.5  0.0  228.0  0.0   932.0  594.0  270.0\n",
      "3  332.5  142.5  0.0  228.0  0.0   932.0  594.0  365.0\n",
      "(1030, 8)\n"
     ]
    }
   ],
   "source": [
    "# Load Dataset:\n",
    "data_url = 'https://raw.githubusercontent.com/Moataz-AbdElKhalek/Concrete_Compressive_Strength_Prediction/main/dataset/Concrete_Dataset_Classification.csv'\n",
    "dataset = pd.read_csv(data_url)\n",
    "\n",
    "print(dataset.head(4))\n",
    "\n",
    "# Descriptive statistics\n",
    "print(\"\\nDataset has {} rows and {} columns\".format(dataset.shape[0],dataset.shape[1]))\n",
    "\n",
    "print()\n",
    "y = dataset['y']\n",
    "print(y.head(4))\n",
    "print(y.shape)\n",
    "print()\n",
    "\n",
    "X = dataset.drop(['y'], axis=1)\n",
    "print(X.head(4))\n",
    "print(X.shape)"
   ]
  },
  {
   "cell_type": "code",
   "execution_count": 8,
   "metadata": {
    "colab": {
     "base_uri": "https://localhost:8080/",
     "height": 300
    },
    "executionInfo": {
     "elapsed": 322,
     "status": "ok",
     "timestamp": 1606306351093,
     "user": {
      "displayName": "Moataz Abdelkhalek",
      "photoUrl": "https://lh3.googleusercontent.com/-cWgl_8LsCOg/AAAAAAAAAAI/AAAAAAAAAAQ/8JrJ9pLxt5E/s64/photo.jpg",
      "userId": "06740322585421175820"
     },
     "user_tz": 360
    },
    "id": "7C35BaX51olB",
    "outputId": "116a3139-a22e-4992-ea98-4167ba376a53"
   },
   "outputs": [
    {
     "data": {
      "text/html": [
       "<div>\n",
       "<style scoped>\n",
       "    .dataframe tbody tr th:only-of-type {\n",
       "        vertical-align: middle;\n",
       "    }\n",
       "\n",
       "    .dataframe tbody tr th {\n",
       "        vertical-align: top;\n",
       "    }\n",
       "\n",
       "    .dataframe thead th {\n",
       "        text-align: right;\n",
       "    }\n",
       "</style>\n",
       "<table border=\"1\" class=\"dataframe\">\n",
       "  <thead>\n",
       "    <tr style=\"text-align: right;\">\n",
       "      <th></th>\n",
       "      <th>X1</th>\n",
       "      <th>X2</th>\n",
       "      <th>X3</th>\n",
       "      <th>X4</th>\n",
       "      <th>X5</th>\n",
       "      <th>X6</th>\n",
       "      <th>X7</th>\n",
       "      <th>X8</th>\n",
       "      <th>y</th>\n",
       "    </tr>\n",
       "  </thead>\n",
       "  <tbody>\n",
       "    <tr>\n",
       "      <th>count</th>\n",
       "      <td>1030.000000</td>\n",
       "      <td>1030.000000</td>\n",
       "      <td>1030.000000</td>\n",
       "      <td>1030.000000</td>\n",
       "      <td>1030.000000</td>\n",
       "      <td>1030.000000</td>\n",
       "      <td>1030.000000</td>\n",
       "      <td>1030.000000</td>\n",
       "      <td>1030.000000</td>\n",
       "    </tr>\n",
       "    <tr>\n",
       "      <th>mean</th>\n",
       "      <td>281.167864</td>\n",
       "      <td>73.895825</td>\n",
       "      <td>54.188350</td>\n",
       "      <td>181.567282</td>\n",
       "      <td>6.204660</td>\n",
       "      <td>972.918932</td>\n",
       "      <td>773.580485</td>\n",
       "      <td>45.662136</td>\n",
       "      <td>-0.048544</td>\n",
       "    </tr>\n",
       "    <tr>\n",
       "      <th>std</th>\n",
       "      <td>104.506364</td>\n",
       "      <td>86.279342</td>\n",
       "      <td>63.997004</td>\n",
       "      <td>21.354219</td>\n",
       "      <td>5.973841</td>\n",
       "      <td>77.753954</td>\n",
       "      <td>80.175980</td>\n",
       "      <td>63.169912</td>\n",
       "      <td>0.999306</td>\n",
       "    </tr>\n",
       "    <tr>\n",
       "      <th>min</th>\n",
       "      <td>102.000000</td>\n",
       "      <td>0.000000</td>\n",
       "      <td>0.000000</td>\n",
       "      <td>121.800000</td>\n",
       "      <td>0.000000</td>\n",
       "      <td>801.000000</td>\n",
       "      <td>594.000000</td>\n",
       "      <td>1.000000</td>\n",
       "      <td>-1.000000</td>\n",
       "    </tr>\n",
       "    <tr>\n",
       "      <th>25%</th>\n",
       "      <td>192.375000</td>\n",
       "      <td>0.000000</td>\n",
       "      <td>0.000000</td>\n",
       "      <td>164.900000</td>\n",
       "      <td>0.000000</td>\n",
       "      <td>932.000000</td>\n",
       "      <td>730.950000</td>\n",
       "      <td>7.000000</td>\n",
       "      <td>-1.000000</td>\n",
       "    </tr>\n",
       "    <tr>\n",
       "      <th>50%</th>\n",
       "      <td>272.900000</td>\n",
       "      <td>22.000000</td>\n",
       "      <td>0.000000</td>\n",
       "      <td>185.000000</td>\n",
       "      <td>6.400000</td>\n",
       "      <td>968.000000</td>\n",
       "      <td>779.500000</td>\n",
       "      <td>28.000000</td>\n",
       "      <td>-1.000000</td>\n",
       "    </tr>\n",
       "    <tr>\n",
       "      <th>75%</th>\n",
       "      <td>350.000000</td>\n",
       "      <td>142.950000</td>\n",
       "      <td>118.300000</td>\n",
       "      <td>192.000000</td>\n",
       "      <td>10.200000</td>\n",
       "      <td>1029.400000</td>\n",
       "      <td>824.000000</td>\n",
       "      <td>56.000000</td>\n",
       "      <td>1.000000</td>\n",
       "    </tr>\n",
       "    <tr>\n",
       "      <th>max</th>\n",
       "      <td>540.000000</td>\n",
       "      <td>359.400000</td>\n",
       "      <td>200.100000</td>\n",
       "      <td>247.000000</td>\n",
       "      <td>32.200000</td>\n",
       "      <td>1145.000000</td>\n",
       "      <td>992.600000</td>\n",
       "      <td>365.000000</td>\n",
       "      <td>1.000000</td>\n",
       "    </tr>\n",
       "  </tbody>\n",
       "</table>\n",
       "</div>"
      ],
      "text/plain": [
       "                X1           X2  ...           X8            y\n",
       "count  1030.000000  1030.000000  ...  1030.000000  1030.000000\n",
       "mean    281.167864    73.895825  ...    45.662136    -0.048544\n",
       "std     104.506364    86.279342  ...    63.169912     0.999306\n",
       "min     102.000000     0.000000  ...     1.000000    -1.000000\n",
       "25%     192.375000     0.000000  ...     7.000000    -1.000000\n",
       "50%     272.900000    22.000000  ...    28.000000    -1.000000\n",
       "75%     350.000000   142.950000  ...    56.000000     1.000000\n",
       "max     540.000000   359.400000  ...   365.000000     1.000000\n",
       "\n",
       "[8 rows x 9 columns]"
      ]
     },
     "execution_count": 8,
     "metadata": {
      "tags": []
     },
     "output_type": "execute_result"
    }
   ],
   "source": [
    "# Applying statistical Analysis on the data:\n",
    "dataset.describe()"
   ]
  },
  {
   "cell_type": "code",
   "execution_count": 9,
   "metadata": {
    "colab": {
     "base_uri": "https://localhost:8080/"
    },
    "executionInfo": {
     "elapsed": 374,
     "status": "ok",
     "timestamp": 1606306352657,
     "user": {
      "displayName": "Moataz Abdelkhalek",
      "photoUrl": "https://lh3.googleusercontent.com/-cWgl_8LsCOg/AAAAAAAAAAI/AAAAAAAAAAQ/8JrJ9pLxt5E/s64/photo.jpg",
      "userId": "06740322585421175820"
     },
     "user_tz": 360
    },
    "id": "kP8yilw2O8gE",
    "outputId": "879541c4-c50f-4370-a466-1dfc58e46c15"
   },
   "outputs": [
    {
     "name": "stdout",
     "output_type": "stream",
     "text": [
      "(721, 8)\n",
      "(721,)\n",
      "(309, 8)\n",
      "(309,)\n"
     ]
    }
   ],
   "source": [
    "# Dividing samples dataset into training and test datasets:\n",
    "def dataset_divide(X, y):\n",
    "  X_train, X_test, y_train, y_test = sklearn.model_selection.train_test_split(X, y, train_size=0.70, random_state=1)\n",
    "  return X_train, X_test, y_train, y_test\n",
    "\n",
    "X_train, X_test, y_train, y_test = dataset_divide(X,y)\n",
    "print(X_train.shape)\n",
    "print(y_train.shape)\n",
    "print(X_test.shape)\n",
    "print(y_test.shape)"
   ]
  },
  {
   "cell_type": "markdown",
   "metadata": {
    "id": "wLHDvciltKtC"
   },
   "source": [
    "# **Artificial Neural Network (ANN) Model**\n",
    "# Fixed Single Split"
   ]
  },
  {
   "cell_type": "code",
   "execution_count": 60,
   "metadata": {
    "executionInfo": {
     "elapsed": 629,
     "status": "ok",
     "timestamp": 1606323572970,
     "user": {
      "displayName": "Moataz Abdelkhalek",
      "photoUrl": "https://lh3.googleusercontent.com/-cWgl_8LsCOg/AAAAAAAAAAI/AAAAAAAAAAQ/8JrJ9pLxt5E/s64/photo.jpg",
      "userId": "06740322585421175820"
     },
     "user_tz": 360
    },
    "id": "ZpdHqoWCVNTU"
   },
   "outputs": [],
   "source": [
    "# ANN Classification Model:\n",
    "def NN_Classification(X,y, max_iter=200, alpha=0.00946, hidden_layer_sizes=[64, 64, 64, 64, 64, 64, 64, 64, 64, 64, 64, 64, 64, 64, 64, 64]):\n",
    "  model = sklearn.neural_network.MLPClassifier(hidden_layer_sizes=hidden_layer_sizes, activation='relu',random_state=1, max_iter=max_iter,alpha=alpha)\n",
    "  model.fit(X, y)\n",
    "\n",
    "  return model"
   ]
  },
  {
   "cell_type": "code",
   "execution_count": 61,
   "metadata": {
    "colab": {
     "base_uri": "https://localhost:8080/",
     "height": 282
    },
    "executionInfo": {
     "elapsed": 5862,
     "status": "ok",
     "timestamp": 1606323579215,
     "user": {
      "displayName": "Moataz Abdelkhalek",
      "photoUrl": "https://lh3.googleusercontent.com/-cWgl_8LsCOg/AAAAAAAAAAI/AAAAAAAAAAQ/8JrJ9pLxt5E/s64/photo.jpg",
      "userId": "06740322585421175820"
     },
     "user_tz": 360
    },
    "id": "eXu_R1mcznVr",
    "outputId": "811f10c8-a32b-4354-f3e4-25f727c99c87"
   },
   "outputs": [
    {
     "name": "stdout",
     "output_type": "stream",
     "text": [
      "0.8770226537216829\n"
     ]
    },
    {
     "data": {
      "image/png": "[encoded data removed]",
      "text/plain": [
       "<Figure size 432x288 with 1 Axes>"
      ]
     },
     "metadata": {
      "needs_background": "light",
      "tags": []
     },
     "output_type": "display_data"
    }
   ],
   "source": [
    "# ANN Classification Model Training:\n",
    "NN_Model = NN_Classification(X_train, y_train)\n",
    "\n",
    "# ANN Classification Model Testing:\n",
    "current_score = NN_Model.score(X_test,y_test)\n",
    "y_test_hat = NN_Model.predict(X_test) # testing output]\n",
    "\n",
    "print(current_score)\n",
    "matplotlib.pyplot.scatter(y_test,y_test_hat)\n",
    "matplotlib.pyplot.show()"
   ]
  },
  {
   "cell_type": "code",
   "execution_count": 62,
   "metadata": {
    "colab": {
     "base_uri": "https://localhost:8080/",
     "height": 66,
     "referenced_widgets": [
      "bc9dabdd7d8c45daafe792b9ccb1f1ee",
      "4ac53f79e47c412c9d6347544cec1d7f",
      "5fe97633c8c5462eba5e11b987cc6463",
      "4aa793e3374a483597e43de2bf9b91cd",
      "7f7ae7c78c734dd9b4edcee5a02c19ab",
      "ec6f0dd5a31348f6959c7734b7324a30",
      "4c50aa9bf7af4449a1fe369b3b9ea87c",
      "d0164a7fe92f46569c585b1825769b11"
     ]
    },
    "executionInfo": {
     "elapsed": 481635,
     "status": "ok",
     "timestamp": 1606324070760,
     "user": {
      "displayName": "Moataz Abdelkhalek",
      "photoUrl": "https://lh3.googleusercontent.com/-cWgl_8LsCOg/AAAAAAAAAAI/AAAAAAAAAAQ/8JrJ9pLxt5E/s64/photo.jpg",
      "userId": "06740322585421175820"
     },
     "user_tz": 360
    },
    "id": "z5-2Y9-i5wyF",
    "outputId": "25ec9f30-b0b8-4d91-c292-6a42c325947f"
   },
   "outputs": [
    {
     "data": {
      "application/vnd.jupyter.widget-view+json": {
       "model_id": "bc9dabdd7d8c45daafe792b9ccb1f1ee",
       "version_major": 2,
       "version_minor": 0
      },
      "text/plain": [
       "HBox(children=(FloatProgress(value=0.0, max=95.0), HTML(value='')))"
      ]
     },
     "metadata": {
      "tags": []
     },
     "output_type": "display_data"
    },
    {
     "name": "stdout",
     "output_type": "stream",
     "text": [
      "\n"
     ]
    }
   ],
   "source": [
    "#def learning_curve_maxiters(X, y, filename=0):\n",
    "#  return 0\n",
    "\n",
    "max_iters = numpy.arange(50,1000,10) # 1-D numpy array of max_iterations from 50 to 2000 with step 50\n",
    "scores_iter = numpy.array([]) # 1-D numpy array of scores\n",
    "\n",
    "for current_max_iter in tqdm(max_iters):\n",
    "  NN_Model = NN_Classification(X_train, y_train, max_iter=current_max_iter)\n",
    "  current_score = NN_Model.score(X_test,y_test)\n",
    "  scores_iter = numpy.append(scores_iter,current_score)\n",
    "\n",
    "#learning_curve_maxiters(X_train,y_train)"
   ]
  },
  {
   "cell_type": "code",
   "execution_count": 63,
   "metadata": {
    "colab": {
     "base_uri": "https://localhost:8080/",
     "height": 321
    },
    "executionInfo": {
     "elapsed": 1075,
     "status": "ok",
     "timestamp": 1606324071847,
     "user": {
      "displayName": "Moataz Abdelkhalek",
      "photoUrl": "https://lh3.googleusercontent.com/-cWgl_8LsCOg/AAAAAAAAAAI/AAAAAAAAAAQ/8JrJ9pLxt5E/s64/photo.jpg",
      "userId": "06740322585421175820"
     },
     "user_tz": 360
    },
    "id": "OVL9Bg_grTFN",
    "outputId": "9d34f4f1-e3c3-4862-b655-1ebb07d821d4"
   },
   "outputs": [
    {
     "name": "stdout",
     "output_type": "stream",
     "text": [
      "best_score_iter = 0.8770226537216829\n",
      "best_score_iter_index = 7\n",
      "best_max_iters = 120\n"
     ]
    },
    {
     "data": {
      "image/png": "[encoded data removed]",
      "text/plain": [
       "<Figure size 432x288 with 1 Axes>"
      ]
     },
     "metadata": {
      "needs_background": "light",
      "tags": []
     },
     "output_type": "display_data"
    }
   ],
   "source": [
    "best_score_iter_index = numpy.argmax(scores_iter)\n",
    "best_score_iter = scores_iter[best_score_iter_index]\n",
    "best_max_iters = max_iters[best_score_iter_index]\n",
    "\n",
    "print('best_score_iter =', best_score_iter)\n",
    "print('best_score_iter_index =', best_score_iter_index)\n",
    "print('best_max_iters =', best_max_iters)\n",
    "\n",
    "matplotlib.pyplot.plot(max_iters,scores_iter)\n",
    "#matplotlib.pyplot.show()\n",
    "matplotlib.pyplot.savefig('max_iterations_scores.png')"
   ]
  },
  {
   "cell_type": "code",
   "execution_count": 12,
   "metadata": {
    "colab": {
     "base_uri": "https://localhost:8080/",
     "height": 66,
     "referenced_widgets": [
      "da7fa348cbda46fcbb37d12123f5658e",
      "68c0203477554ff99da0585e10a0e57c",
      "660ab3312a444eb8a19305a84b823177",
      "498e933341bd4c85a478b09fe597362f",
      "830ffb9554e44ee6863e6ebe98d3f3e5",
      "96e7371f2e354f98a33777784c05e4eb",
      "9c370110dbef4c26ac5aa9f43e973892",
      "7f9bbdadf17e47c1b33e137842cdc5f2"
     ]
    },
    "executionInfo": {
     "elapsed": 5069856,
     "status": "ok",
     "timestamp": 1606311485572,
     "user": {
      "displayName": "Moataz Abdelkhalek",
      "photoUrl": "https://lh3.googleusercontent.com/-cWgl_8LsCOg/AAAAAAAAAAI/AAAAAAAAAAQ/8JrJ9pLxt5E/s64/photo.jpg",
      "userId": "06740322585421175820"
     },
     "user_tz": 360
    },
    "id": "AtPig-zeZVuf",
    "outputId": "fbc13abc-c094-426c-8898-86d81c91cd46"
   },
   "outputs": [
    {
     "data": {
      "application/vnd.jupyter.widget-view+json": {
       "model_id": "da7fa348cbda46fcbb37d12123f5658e",
       "version_major": 2,
       "version_minor": 0
      },
      "text/plain": [
       "HBox(children=(FloatProgress(value=0.0, max=2000.0), HTML(value='')))"
      ]
     },
     "metadata": {
      "tags": []
     },
     "output_type": "display_data"
    },
    {
     "name": "stdout",
     "output_type": "stream",
     "text": [
      "\n"
     ]
    }
   ],
   "source": [
    "#def learning_curve_alpha(X, y, filename=0):\n",
    "#  return 0\n",
    "\n",
    "alphas = numpy.arange(0,0.02,.00001) # 1-D numpy array of max_iterations from 50 to 2000 with step 50\n",
    "scores_alpha = numpy.array([]) # 1-D numpy array of scores\n",
    "\n",
    "for current_alpha in tqdm(alphas):\n",
    "  NN_Model = NN_Classification(X_train, y_train, alpha=current_alpha)\n",
    "  current_score = NN_Model.score(X_test,y_test)\n",
    "  scores_alpha = numpy.append(scores_alpha,current_score)\n",
    "\n",
    "#learning_curve_alpha(X_train,y_train)"
   ]
  },
  {
   "cell_type": "code",
   "execution_count": 64,
   "metadata": {
    "colab": {
     "base_uri": "https://localhost:8080/",
     "height": 404
    },
    "executionInfo": {
     "elapsed": 1255,
     "status": "ok",
     "timestamp": 1606324072038,
     "user": {
      "displayName": "Moataz Abdelkhalek",
      "photoUrl": "https://lh3.googleusercontent.com/-cWgl_8LsCOg/AAAAAAAAAAI/AAAAAAAAAAQ/8JrJ9pLxt5E/s64/photo.jpg",
      "userId": "06740322585421175820"
     },
     "user_tz": 360
    },
    "id": "dyAEAULxsL6Q",
    "outputId": "c441723c-496a-460f-c284-aac0c8108514"
   },
   "outputs": [
    {
     "name": "stdout",
     "output_type": "stream",
     "text": [
      "best_score_alpha = 0.8770226537216829\n",
      "best_score_alpha_index = 946\n",
      "best_alpha = 0.009460000000000001\n",
      "\n",
      "Getting Top Scores and Alphas:\n",
      "best_score_alpha_indeces = (array([ 946, 1668, 1808]),)\n",
      "best_alphas = [0.00946 0.01668 0.01808]\n",
      "best_scores_alpha = [0.87702265 0.87055016 0.87055016]\n"
     ]
    },
    {
     "data": {
      "image/png": "[encoded data removed]",
      "text/plain": [
       "<Figure size 432x288 with 1 Axes>"
      ]
     },
     "metadata": {
      "needs_background": "light",
      "tags": []
     },
     "output_type": "display_data"
    }
   ],
   "source": [
    "best_score_alpha_index = numpy.argmax(scores_alpha)\n",
    "best_score_alpha = scores_alpha[best_score_alpha_index]\n",
    "best_alpha = alphas[best_score_alpha_index]\n",
    "\n",
    "print('best_score_alpha =', best_score_alpha)\n",
    "print('best_score_alpha_index =', best_score_alpha_index)\n",
    "print('best_alpha =', best_alpha)\n",
    "\n",
    "print('\\nGetting Top Scores and Alphas:')\n",
    "best_score_alpha_indeces = numpy.where(scores_alpha > 0.87)\n",
    "print('best_score_alpha_indeces =', best_score_alpha_indeces)\n",
    "print('best_alphas =', alphas[best_score_alpha_indeces])\n",
    "print('best_scores_alpha =', scores_alpha[best_score_alpha_indeces])\n",
    "\n",
    "matplotlib.pyplot.plot(alphas,scores_alpha)\n",
    "matplotlib.pyplot.savefig('alpha_scores.png')"
   ]
  },
  {
   "cell_type": "code",
   "execution_count": 65,
   "metadata": {
    "colab": {
     "base_uri": "https://localhost:8080/",
     "height": 66,
     "referenced_widgets": [
      "8729ea832cd44692a686c5a09a3e143b",
      "dcb87b25bdf7490799390458e25a6163",
      "d7f8c16ab1d14fa397ec1458462a3fe1",
      "ef96017afb0e4784b588cde50d37c244",
      "714c65cbf56a4fc9b144f4df1bb5db9b",
      "ab7ac4f62e0d46f389d87cb078b037cf",
      "b4012df945f24d369bad06cd52681b44",
      "374522631b6647248d76f27b8f317b81"
     ]
    },
    "executionInfo": {
     "elapsed": 3423556,
     "status": "ok",
     "timestamp": 1606327555193,
     "user": {
      "displayName": "Moataz Abdelkhalek",
      "photoUrl": "https://lh3.googleusercontent.com/-cWgl_8LsCOg/AAAAAAAAAAI/AAAAAAAAAAQ/8JrJ9pLxt5E/s64/photo.jpg",
      "userId": "06740322585421175820"
     },
     "user_tz": 360
    },
    "id": "NEHu66DPrmh6",
    "outputId": "87e3665b-8d51-4188-aabe-7507fd59ac24"
   },
   "outputs": [
    {
     "data": {
      "application/vnd.jupyter.widget-view+json": {
       "model_id": "8729ea832cd44692a686c5a09a3e143b",
       "version_major": 2,
       "version_minor": 0
      },
      "text/plain": [
       "HBox(children=(FloatProgress(value=0.0, max=2000.0), HTML(value='')))"
      ]
     },
     "metadata": {
      "tags": []
     },
     "output_type": "display_data"
    },
    {
     "name": "stdout",
     "output_type": "stream",
     "text": [
      "\n"
     ]
    }
   ],
   "source": [
    "def learning_curve_hidden(X, y, filename=0):\n",
    "  return 0\n",
    "\n",
    "scores_hidden = numpy.array([]) # 1-D numpy array of scores\n",
    "layers = []\n",
    "number_of_layers = 20\n",
    "number_of_nodes_per_layers = 100\n",
    "\n",
    "for n in range(number_of_nodes_per_layers):\n",
    "  temp = numpy.array([[n+1]])\n",
    "  for m in range(number_of_layers):\n",
    "    hidden = numpy.repeat(temp, repeats=m+1, axis=1)\n",
    "    layers.append(hidden.tolist())\n",
    "\n",
    "for i in tqdm(range(number_of_layers*number_of_nodes_per_layers)):\n",
    "  NN_Model = NN_Classification(X_train, y_train, hidden_layer_sizes=layers[i][0])\n",
    "  current_score = NN_Model.score(X_test,y_test)\n",
    "  scores_hidden = numpy.append(scores_hidden,current_score)\n",
    "\n",
    "#learning_curve_hidden(X_train,y_train)"
   ]
  },
  {
   "cell_type": "code",
   "execution_count": 76,
   "metadata": {
    "colab": {
     "base_uri": "https://localhost:8080/",
     "height": 702
    },
    "executionInfo": {
     "elapsed": 559,
     "status": "ok",
     "timestamp": 1606329186325,
     "user": {
      "displayName": "Moataz Abdelkhalek",
      "photoUrl": "https://lh3.googleusercontent.com/-cWgl_8LsCOg/AAAAAAAAAAI/AAAAAAAAAAQ/8JrJ9pLxt5E/s64/photo.jpg",
      "userId": "06740322585421175820"
     },
     "user_tz": 360
    },
    "id": "zcZzwtZ_VPxE",
    "outputId": "65989b2e-14e8-42d3-e06a-544a76a4fc24"
   },
   "outputs": [
    {
     "name": "stdout",
     "output_type": "stream",
     "text": [
      "best_score_hidden = 0.8770226537216829\n",
      "best_score_hidden_index = 1275\n",
      "best_hidden_layer = [[64, 64, 64, 64, 64, 64, 64, 64, 64, 64, 64, 64, 64, 64, 64, 64]]\n",
      "\n",
      "Getting Top Scores and hidden_layers:\n",
      "best_score_hidden_indeces = (array([ 226,  250,  948,  955, 1012, 1074, 1128, 1232, 1275, 1826, 1835,\n",
      "       1864, 1878, 1895, 1925]),)\n",
      "best_hidden_layers = [[12, 12, 12, 12, 12, 12, 12]]\n",
      "best_hidden_layers = [[13, 13, 13, 13, 13, 13, 13, 13, 13, 13, 13]]\n",
      "best_hidden_layers = [[48, 48, 48, 48, 48, 48, 48, 48, 48]]\n",
      "best_hidden_layers = [[48, 48, 48, 48, 48, 48, 48, 48, 48, 48, 48, 48, 48, 48, 48, 48]]\n",
      "best_hidden_layers = [[51, 51, 51, 51, 51, 51, 51, 51, 51, 51, 51, 51, 51]]\n",
      "best_hidden_layers = [[54, 54, 54, 54, 54, 54, 54, 54, 54, 54, 54, 54, 54, 54, 54]]\n",
      "best_hidden_layers = [[57, 57, 57, 57, 57, 57, 57, 57, 57]]\n",
      "best_hidden_layers = [[62, 62, 62, 62, 62, 62, 62, 62, 62, 62, 62, 62, 62]]\n",
      "best_hidden_layers = [[64, 64, 64, 64, 64, 64, 64, 64, 64, 64, 64, 64, 64, 64, 64, 64]]\n",
      "best_hidden_layers = [[92, 92, 92, 92, 92, 92, 92]]\n",
      "best_hidden_layers = [[92, 92, 92, 92, 92, 92, 92, 92, 92, 92, 92, 92, 92, 92, 92, 92]]\n",
      "best_hidden_layers = [[94, 94, 94, 94, 94]]\n",
      "best_hidden_layers = [[94, 94, 94, 94, 94, 94, 94, 94, 94, 94, 94, 94, 94, 94, 94, 94, 94, 94, 94]]\n",
      "best_hidden_layers = [[95, 95, 95, 95, 95, 95, 95, 95, 95, 95, 95, 95, 95, 95, 95, 95]]\n",
      "best_hidden_layers = [[97, 97, 97, 97, 97, 97]]\n",
      "best_scores_hidden = [0.85113269 0.85113269 0.85436893 0.85113269 0.85760518 0.85113269\n",
      " 0.85113269 0.85113269 0.87702265 0.85113269 0.86407767 0.85113269\n",
      " 0.85436893 0.85436893 0.85113269]\n"
     ]
    },
    {
     "data": {
      "image/png": "[encoded data removed]",
      "text/plain": [
       "<Figure size 432x288 with 1 Axes>"
      ]
     },
     "metadata": {
      "needs_background": "light",
      "tags": []
     },
     "output_type": "display_data"
    }
   ],
   "source": [
    "best_score_hidden_index = numpy.argmax(scores_hidden)\n",
    "best_score_hidden = scores_hidden[best_score_hidden_index]\n",
    "best_hidden = layers[best_score_hidden_index]\n",
    "\n",
    "print('best_score_hidden =', best_score_hidden)\n",
    "print('best_score_hidden_index =',best_score_hidden_index)\n",
    "print('best_hidden_layer =',best_hidden)\n",
    "\n",
    "print('\\nGetting Top Scores and hidden_layers:')\n",
    "best_score_hidden_indeces = numpy.where(scores_hidden > 0.85)\n",
    "print('best_score_hidden_indeces =', best_score_hidden_indeces)\n",
    "for i in best_score_hidden_indeces[0]:\n",
    "  print('best_hidden_layers =', layers[i])\n",
    "\n",
    "print('best_scores_hidden =', scores_hidden[best_score_hidden_indeces])\n",
    "\n",
    "\n",
    "\n",
    "layer_index = range(number_of_layers*number_of_nodes_per_layers)\n",
    "matplotlib.pyplot.plot(layer_index,scores_hidden)\n",
    "#matplotlib.pyplot.show()\n",
    "matplotlib.pyplot.savefig('hidden_layers_score.png')"
   ]
  }
 ],
 "metadata": {
  "colab": {
   "collapsed_sections": [],
   "name": "ANN_Without_CV.ipynb",
   "provenance": []
  },
  "kernelspec": {
   "display_name": "Python 3",
   "language": "python",
   "name": "python3"
  },
  "language_info": {
   "codemirror_mode": {
    "name": "ipython",
    "version": 3
   },
   "file_extension": ".py",
   "mimetype": "text/x-python",
   "name": "python",
   "nbconvert_exporter": "python",
   "pygments_lexer": "ipython3",
   "version": "3.8.5"
  },
  "widgets": {
   "application/vnd.jupyter.widget-state+json": {
    "374522631b6647248d76f27b8f317b81": {
     "model_module": "@jupyter-widgets/base",
     "model_name": "LayoutModel",
     "state": {
      "_model_module": "@jupyter-widgets/base",
      "_model_module_version": "1.2.0",
      "_model_name": "LayoutModel",
      "_view_count": null,
      "_view_module": "@jupyter-widgets/base",
      "_view_module_version": "1.2.0",
      "_view_name": "LayoutView",
      "align_content": null,
      "align_items": null,
      "align_self": null,
      "border": null,
      "bottom": null,
      "display": null,
      "flex": null,
      "flex_flow": null,
      "grid_area": null,
      "grid_auto_columns": null,
      "grid_auto_flow": null,
      "grid_auto_rows": null,
      "grid_column": null,
      "grid_gap": null,
      "grid_row": null,
      "grid_template_areas": null,
      "grid_template_columns": null,
      "grid_template_rows": null,
      "height": null,
      "justify_content": null,
      "justify_items": null,
      "left": null,
      "margin": null,
      "max_height": null,
      "max_width": null,
      "min_height": null,
      "min_width": null,
      "object_fit": null,
      "object_position": null,
      "order": null,
      "overflow": null,
      "overflow_x": null,
      "overflow_y": null,
      "padding": null,
      "right": null,
      "top": null,
      "visibility": null,
      "width": null
     }
    },
    "498e933341bd4c85a478b09fe597362f": {
     "model_module": "@jupyter-widgets/controls",
     "model_name": "HTMLModel",
     "state": {
      "_dom_classes": [],
      "_model_module": "@jupyter-widgets/controls",
      "_model_module_version": "1.5.0",
      "_model_name": "HTMLModel",
      "_view_count": null,
      "_view_module": "@jupyter-widgets/controls",
      "_view_module_version": "1.5.0",
      "_view_name": "HTMLView",
      "description": "",
      "description_tooltip": null,
      "layout": "IPY_MODEL_7f9bbdadf17e47c1b33e137842cdc5f2",
      "placeholder": "​",
      "style": "IPY_MODEL_9c370110dbef4c26ac5aa9f43e973892",
      "value": " 2000/2000 [1:24:29&lt;00:00,  2.53s/it]"
     }
    },
    "4aa793e3374a483597e43de2bf9b91cd": {
     "model_module": "@jupyter-widgets/controls",
     "model_name": "HTMLModel",
     "state": {
      "_dom_classes": [],
      "_model_module": "@jupyter-widgets/controls",
      "_model_module_version": "1.5.0",
      "_model_name": "HTMLModel",
      "_view_count": null,
      "_view_module": "@jupyter-widgets/controls",
      "_view_module_version": "1.5.0",
      "_view_name": "HTMLView",
      "description": "",
      "description_tooltip": null,
      "layout": "IPY_MODEL_d0164a7fe92f46569c585b1825769b11",
      "placeholder": "​",
      "style": "IPY_MODEL_4c50aa9bf7af4449a1fe369b3b9ea87c",
      "value": " 95/95 [08:02&lt;00:00,  5.07s/it]"
     }
    },
    "4ac53f79e47c412c9d6347544cec1d7f": {
     "model_module": "@jupyter-widgets/base",
     "model_name": "LayoutModel",
     "state": {
      "_model_module": "@jupyter-widgets/base",
      "_model_module_version": "1.2.0",
      "_model_name": "LayoutModel",
      "_view_count": null,
      "_view_module": "@jupyter-widgets/base",
      "_view_module_version": "1.2.0",
      "_view_name": "LayoutView",
      "align_content": null,
      "align_items": null,
      "align_self": null,
      "border": null,
      "bottom": null,
      "display": null,
      "flex": null,
      "flex_flow": null,
      "grid_area": null,
      "grid_auto_columns": null,
      "grid_auto_flow": null,
      "grid_auto_rows": null,
      "grid_column": null,
      "grid_gap": null,
      "grid_row": null,
      "grid_template_areas": null,
      "grid_template_columns": null,
      "grid_template_rows": null,
      "height": null,
      "justify_content": null,
      "justify_items": null,
      "left": null,
      "margin": null,
      "max_height": null,
      "max_width": null,
      "min_height": null,
      "min_width": null,
      "object_fit": null,
      "object_position": null,
      "order": null,
      "overflow": null,
      "overflow_x": null,
      "overflow_y": null,
      "padding": null,
      "right": null,
      "top": null,
      "visibility": null,
      "width": null
     }
    },
    "4c50aa9bf7af4449a1fe369b3b9ea87c": {
     "model_module": "@jupyter-widgets/controls",
     "model_name": "DescriptionStyleModel",
     "state": {
      "_model_module": "@jupyter-widgets/controls",
      "_model_module_version": "1.5.0",
      "_model_name": "DescriptionStyleModel",
      "_view_count": null,
      "_view_module": "@jupyter-widgets/base",
      "_view_module_version": "1.2.0",
      "_view_name": "StyleView",
      "description_width": ""
     }
    },
    "5fe97633c8c5462eba5e11b987cc6463": {
     "model_module": "@jupyter-widgets/controls",
     "model_name": "FloatProgressModel",
     "state": {
      "_dom_classes": [],
      "_model_module": "@jupyter-widgets/controls",
      "_model_module_version": "1.5.0",
      "_model_name": "FloatProgressModel",
      "_view_count": null,
      "_view_module": "@jupyter-widgets/controls",
      "_view_module_version": "1.5.0",
      "_view_name": "ProgressView",
      "bar_style": "success",
      "description": "100%",
      "description_tooltip": null,
      "layout": "IPY_MODEL_ec6f0dd5a31348f6959c7734b7324a30",
      "max": 95,
      "min": 0,
      "orientation": "horizontal",
      "style": "IPY_MODEL_7f7ae7c78c734dd9b4edcee5a02c19ab",
      "value": 95
     }
    },
    "660ab3312a444eb8a19305a84b823177": {
     "model_module": "@jupyter-widgets/controls",
     "model_name": "FloatProgressModel",
     "state": {
      "_dom_classes": [],
      "_model_module": "@jupyter-widgets/controls",
      "_model_module_version": "1.5.0",
      "_model_name": "FloatProgressModel",
      "_view_count": null,
      "_view_module": "@jupyter-widgets/controls",
      "_view_module_version": "1.5.0",
      "_view_name": "ProgressView",
      "bar_style": "success",
      "description": "100%",
      "description_tooltip": null,
      "layout": "IPY_MODEL_96e7371f2e354f98a33777784c05e4eb",
      "max": 2000,
      "min": 0,
      "orientation": "horizontal",
      "style": "IPY_MODEL_830ffb9554e44ee6863e6ebe98d3f3e5",
      "value": 2000
     }
    },
    "68c0203477554ff99da0585e10a0e57c": {
     "model_module": "@jupyter-widgets/base",
     "model_name": "LayoutModel",
     "state": {
      "_model_module": "@jupyter-widgets/base",
      "_model_module_version": "1.2.0",
      "_model_name": "LayoutModel",
      "_view_count": null,
      "_view_module": "@jupyter-widgets/base",
      "_view_module_version": "1.2.0",
      "_view_name": "LayoutView",
      "align_content": null,
      "align_items": null,
      "align_self": null,
      "border": null,
      "bottom": null,
      "display": null,
      "flex": null,
      "flex_flow": null,
      "grid_area": null,
      "grid_auto_columns": null,
      "grid_auto_flow": null,
      "grid_auto_rows": null,
      "grid_column": null,
      "grid_gap": null,
      "grid_row": null,
      "grid_template_areas": null,
      "grid_template_columns": null,
      "grid_template_rows": null,
      "height": null,
      "justify_content": null,
      "justify_items": null,
      "left": null,
      "margin": null,
      "max_height": null,
      "max_width": null,
      "min_height": null,
      "min_width": null,
      "object_fit": null,
      "object_position": null,
      "order": null,
      "overflow": null,
      "overflow_x": null,
      "overflow_y": null,
      "padding": null,
      "right": null,
      "top": null,
      "visibility": null,
      "width": null
     }
    },
    "714c65cbf56a4fc9b144f4df1bb5db9b": {
     "model_module": "@jupyter-widgets/controls",
     "model_name": "ProgressStyleModel",
     "state": {
      "_model_module": "@jupyter-widgets/controls",
      "_model_module_version": "1.5.0",
      "_model_name": "ProgressStyleModel",
      "_view_count": null,
      "_view_module": "@jupyter-widgets/base",
      "_view_module_version": "1.2.0",
      "_view_name": "StyleView",
      "bar_color": null,
      "description_width": "initial"
     }
    },
    "7f7ae7c78c734dd9b4edcee5a02c19ab": {
     "model_module": "@jupyter-widgets/controls",
     "model_name": "ProgressStyleModel",
     "state": {
      "_model_module": "@jupyter-widgets/controls",
      "_model_module_version": "1.5.0",
      "_model_name": "ProgressStyleModel",
      "_view_count": null,
      "_view_module": "@jupyter-widgets/base",
      "_view_module_version": "1.2.0",
      "_view_name": "StyleView",
      "bar_color": null,
      "description_width": "initial"
     }
    },
    "7f9bbdadf17e47c1b33e137842cdc5f2": {
     "model_module": "@jupyter-widgets/base",
     "model_name": "LayoutModel",
     "state": {
      "_model_module": "@jupyter-widgets/base",
      "_model_module_version": "1.2.0",
      "_model_name": "LayoutModel",
      "_view_count": null,
      "_view_module": "@jupyter-widgets/base",
      "_view_module_version": "1.2.0",
      "_view_name": "LayoutView",
      "align_content": null,
      "align_items": null,
      "align_self": null,
      "border": null,
      "bottom": null,
      "display": null,
      "flex": null,
      "flex_flow": null,
      "grid_area": null,
      "grid_auto_columns": null,
      "grid_auto_flow": null,
      "grid_auto_rows": null,
      "grid_column": null,
      "grid_gap": null,
      "grid_row": null,
      "grid_template_areas": null,
      "grid_template_columns": null,
      "grid_template_rows": null,
      "height": null,
      "justify_content": null,
      "justify_items": null,
      "left": null,
      "margin": null,
      "max_height": null,
      "max_width": null,
      "min_height": null,
      "min_width": null,
      "object_fit": null,
      "object_position": null,
      "order": null,
      "overflow": null,
      "overflow_x": null,
      "overflow_y": null,
      "padding": null,
      "right": null,
      "top": null,
      "visibility": null,
      "width": null
     }
    },
    "830ffb9554e44ee6863e6ebe98d3f3e5": {
     "model_module": "@jupyter-widgets/controls",
     "model_name": "ProgressStyleModel",
     "state": {
      "_model_module": "@jupyter-widgets/controls",
      "_model_module_version": "1.5.0",
      "_model_name": "ProgressStyleModel",
      "_view_count": null,
      "_view_module": "@jupyter-widgets/base",
      "_view_module_version": "1.2.0",
      "_view_name": "StyleView",
      "bar_color": null,
      "description_width": "initial"
     }
    },
    "8729ea832cd44692a686c5a09a3e143b": {
     "model_module": "@jupyter-widgets/controls",
     "model_name": "HBoxModel",
     "state": {
      "_dom_classes": [],
      "_model_module": "@jupyter-widgets/controls",
      "_model_module_version": "1.5.0",
      "_model_name": "HBoxModel",
      "_view_count": null,
      "_view_module": "@jupyter-widgets/controls",
      "_view_module_version": "1.5.0",
      "_view_name": "HBoxView",
      "box_style": "",
      "children": [
       "IPY_MODEL_d7f8c16ab1d14fa397ec1458462a3fe1",
       "IPY_MODEL_ef96017afb0e4784b588cde50d37c244"
      ],
      "layout": "IPY_MODEL_dcb87b25bdf7490799390458e25a6163"
     }
    },
    "96e7371f2e354f98a33777784c05e4eb": {
     "model_module": "@jupyter-widgets/base",
     "model_name": "LayoutModel",
     "state": {
      "_model_module": "@jupyter-widgets/base",
      "_model_module_version": "1.2.0",
      "_model_name": "LayoutModel",
      "_view_count": null,
      "_view_module": "@jupyter-widgets/base",
      "_view_module_version": "1.2.0",
      "_view_name": "LayoutView",
      "align_content": null,
      "align_items": null,
      "align_self": null,
      "border": null,
      "bottom": null,
      "display": null,
      "flex": null,
      "flex_flow": null,
      "grid_area": null,
      "grid_auto_columns": null,
      "grid_auto_flow": null,
      "grid_auto_rows": null,
      "grid_column": null,
      "grid_gap": null,
      "grid_row": null,
      "grid_template_areas": null,
      "grid_template_columns": null,
      "grid_template_rows": null,
      "height": null,
      "justify_content": null,
      "justify_items": null,
      "left": null,
      "margin": null,
      "max_height": null,
      "max_width": null,
      "min_height": null,
      "min_width": null,
      "object_fit": null,
      "object_position": null,
      "order": null,
      "overflow": null,
      "overflow_x": null,
      "overflow_y": null,
      "padding": null,
      "right": null,
      "top": null,
      "visibility": null,
      "width": null
     }
    },
    "9c370110dbef4c26ac5aa9f43e973892": {
     "model_module": "@jupyter-widgets/controls",
     "model_name": "DescriptionStyleModel",
     "state": {
      "_model_module": "@jupyter-widgets/controls",
      "_model_module_version": "1.5.0",
      "_model_name": "DescriptionStyleModel",
      "_view_count": null,
      "_view_module": "@jupyter-widgets/base",
      "_view_module_version": "1.2.0",
      "_view_name": "StyleView",
      "description_width": ""
     }
    },
    "ab7ac4f62e0d46f389d87cb078b037cf": {
     "model_module": "@jupyter-widgets/base",
     "model_name": "LayoutModel",
     "state": {
      "_model_module": "@jupyter-widgets/base",
      "_model_module_version": "1.2.0",
      "_model_name": "LayoutModel",
      "_view_count": null,
      "_view_module": "@jupyter-widgets/base",
      "_view_module_version": "1.2.0",
      "_view_name": "LayoutView",
      "align_content": null,
      "align_items": null,
      "align_self": null,
      "border": null,
      "bottom": null,
      "display": null,
      "flex": null,
      "flex_flow": null,
      "grid_area": null,
      "grid_auto_columns": null,
      "grid_auto_flow": null,
      "grid_auto_rows": null,
      "grid_column": null,
      "grid_gap": null,
      "grid_row": null,
      "grid_template_areas": null,
      "grid_template_columns": null,
      "grid_template_rows": null,
      "height": null,
      "justify_content": null,
      "justify_items": null,
      "left": null,
      "margin": null,
      "max_height": null,
      "max_width": null,
      "min_height": null,
      "min_width": null,
      "object_fit": null,
      "object_position": null,
      "order": null,
      "overflow": null,
      "overflow_x": null,
      "overflow_y": null,
      "padding": null,
      "right": null,
      "top": null,
      "visibility": null,
      "width": null
     }
    },
    "b4012df945f24d369bad06cd52681b44": {
     "model_module": "@jupyter-widgets/controls",
     "model_name": "DescriptionStyleModel",
     "state": {
      "_model_module": "@jupyter-widgets/controls",
      "_model_module_version": "1.5.0",
      "_model_name": "DescriptionStyleModel",
      "_view_count": null,
      "_view_module": "@jupyter-widgets/base",
      "_view_module_version": "1.2.0",
      "_view_name": "StyleView",
      "description_width": ""
     }
    },
    "bc9dabdd7d8c45daafe792b9ccb1f1ee": {
     "model_module": "@jupyter-widgets/controls",
     "model_name": "HBoxModel",
     "state": {
      "_dom_classes": [],
      "_model_module": "@jupyter-widgets/controls",
      "_model_module_version": "1.5.0",
      "_model_name": "HBoxModel",
      "_view_count": null,
      "_view_module": "@jupyter-widgets/controls",
      "_view_module_version": "1.5.0",
      "_view_name": "HBoxView",
      "box_style": "",
      "children": [
       "IPY_MODEL_5fe97633c8c5462eba5e11b987cc6463",
       "IPY_MODEL_4aa793e3374a483597e43de2bf9b91cd"
      ],
      "layout": "IPY_MODEL_4ac53f79e47c412c9d6347544cec1d7f"
     }
    },
    "d0164a7fe92f46569c585b1825769b11": {
     "model_module": "@jupyter-widgets/base",
     "model_name": "LayoutModel",
     "state": {
      "_model_module": "@jupyter-widgets/base",
      "_model_module_version": "1.2.0",
      "_model_name": "LayoutModel",
      "_view_count": null,
      "_view_module": "@jupyter-widgets/base",
      "_view_module_version": "1.2.0",
      "_view_name": "LayoutView",
      "align_content": null,
      "align_items": null,
      "align_self": null,
      "border": null,
      "bottom": null,
      "display": null,
      "flex": null,
      "flex_flow": null,
      "grid_area": null,
      "grid_auto_columns": null,
      "grid_auto_flow": null,
      "grid_auto_rows": null,
      "grid_column": null,
      "grid_gap": null,
      "grid_row": null,
      "grid_template_areas": null,
      "grid_template_columns": null,
      "grid_template_rows": null,
      "height": null,
      "justify_content": null,
      "justify_items": null,
      "left": null,
      "margin": null,
      "max_height": null,
      "max_width": null,
      "min_height": null,
      "min_width": null,
      "object_fit": null,
      "object_position": null,
      "order": null,
      "overflow": null,
      "overflow_x": null,
      "overflow_y": null,
      "padding": null,
      "right": null,
      "top": null,
      "visibility": null,
      "width": null
     }
    },
    "d7f8c16ab1d14fa397ec1458462a3fe1": {
     "model_module": "@jupyter-widgets/controls",
     "model_name": "FloatProgressModel",
     "state": {
      "_dom_classes": [],
      "_model_module": "@jupyter-widgets/controls",
      "_model_module_version": "1.5.0",
      "_model_name": "FloatProgressModel",
      "_view_count": null,
      "_view_module": "@jupyter-widgets/controls",
      "_view_module_version": "1.5.0",
      "_view_name": "ProgressView",
      "bar_style": "success",
      "description": "100%",
      "description_tooltip": null,
      "layout": "IPY_MODEL_ab7ac4f62e0d46f389d87cb078b037cf",
      "max": 2000,
      "min": 0,
      "orientation": "horizontal",
      "style": "IPY_MODEL_714c65cbf56a4fc9b144f4df1bb5db9b",
      "value": 2000
     }
    },
    "da7fa348cbda46fcbb37d12123f5658e": {
     "model_module": "@jupyter-widgets/controls",
     "model_name": "HBoxModel",
     "state": {
      "_dom_classes": [],
      "_model_module": "@jupyter-widgets/controls",
      "_model_module_version": "1.5.0",
      "_model_name": "HBoxModel",
      "_view_count": null,
      "_view_module": "@jupyter-widgets/controls",
      "_view_module_version": "1.5.0",
      "_view_name": "HBoxView",
      "box_style": "",
      "children": [
       "IPY_MODEL_660ab3312a444eb8a19305a84b823177",
       "IPY_MODEL_498e933341bd4c85a478b09fe597362f"
      ],
      "layout": "IPY_MODEL_68c0203477554ff99da0585e10a0e57c"
     }
    },
    "dcb87b25bdf7490799390458e25a6163": {
     "model_module": "@jupyter-widgets/base",
     "model_name": "LayoutModel",
     "state": {
      "_model_module": "@jupyter-widgets/base",
      "_model_module_version": "1.2.0",
      "_model_name": "LayoutModel",
      "_view_count": null,
      "_view_module": "@jupyter-widgets/base",
      "_view_module_version": "1.2.0",
      "_view_name": "LayoutView",
      "align_content": null,
      "align_items": null,
      "align_self": null,
      "border": null,
      "bottom": null,
      "display": null,
      "flex": null,
      "flex_flow": null,
      "grid_area": null,
      "grid_auto_columns": null,
      "grid_auto_flow": null,
      "grid_auto_rows": null,
      "grid_column": null,
      "grid_gap": null,
      "grid_row": null,
      "grid_template_areas": null,
      "grid_template_columns": null,
      "grid_template_rows": null,
      "height": null,
      "justify_content": null,
      "justify_items": null,
      "left": null,
      "margin": null,
      "max_height": null,
      "max_width": null,
      "min_height": null,
      "min_width": null,
      "object_fit": null,
      "object_position": null,
      "order": null,
      "overflow": null,
      "overflow_x": null,
      "overflow_y": null,
      "padding": null,
      "right": null,
      "top": null,
      "visibility": null,
      "width": null
     }
    },
    "ec6f0dd5a31348f6959c7734b7324a30": {
     "model_module": "@jupyter-widgets/base",
     "model_name": "LayoutModel",
     "state": {
      "_model_module": "@jupyter-widgets/base",
      "_model_module_version": "1.2.0",
      "_model_name": "LayoutModel",
      "_view_count": null,
      "_view_module": "@jupyter-widgets/base",
      "_view_module_version": "1.2.0",
      "_view_name": "LayoutView",
      "align_content": null,
      "align_items": null,
      "align_self": null,
      "border": null,
      "bottom": null,
      "display": null,
      "flex": null,
      "flex_flow": null,
      "grid_area": null,
      "grid_auto_columns": null,
      "grid_auto_flow": null,
      "grid_auto_rows": null,
      "grid_column": null,
      "grid_gap": null,
      "grid_row": null,
      "grid_template_areas": null,
      "grid_template_columns": null,
      "grid_template_rows": null,
      "height": null,
      "justify_content": null,
      "justify_items": null,
      "left": null,
      "margin": null,
      "max_height": null,
      "max_width": null,
      "min_height": null,
      "min_width": null,
      "object_fit": null,
      "object_position": null,
      "order": null,
      "overflow": null,
      "overflow_x": null,
      "overflow_y": null,
      "padding": null,
      "right": null,
      "top": null,
      "visibility": null,
      "width": null
     }
    },
    "ef96017afb0e4784b588cde50d37c244": {
     "model_module": "@jupyter-widgets/controls",
     "model_name": "HTMLModel",
     "state": {
      "_dom_classes": [],
      "_model_module": "@jupyter-widgets/controls",
      "_model_module_version": "1.5.0",
      "_model_name": "HTMLModel",
      "_view_count": null,
      "_view_module": "@jupyter-widgets/controls",
      "_view_module_version": "1.5.0",
      "_view_name": "HTMLView",
      "description": "",
      "description_tooltip": null,
      "layout": "IPY_MODEL_374522631b6647248d76f27b8f317b81",
      "placeholder": "​",
      "style": "IPY_MODEL_b4012df945f24d369bad06cd52681b44",
      "value": " 2000/2000 [57:03&lt;00:00,  1.71s/it]"
     }
    }
   }
  }
 },
 "nbformat": 4,
 "nbformat_minor": 1
}
