{
 "cells": [
  {
   "cell_type": "code",
   "execution_count": 1,
   "metadata": {
    "id": "lQg_lUscFdBc"
   },
   "outputs": [],
   "source": [
    "# Importing relevant modules\n",
    "import sklearn.neural_network\n",
    "import numpy\n",
    "import pandas as pd\n",
    "import matplotlib\n",
    "import matplotlib.pyplot as plt\n",
    "import itertools\n",
    "%matplotlib inline\n",
    "import sklearn\n",
    "import IPython.display\n",
    "from tqdm import tqdm_notebook as tqdm\n",
    "\n",
    "# Ignoring warnings\n",
    "import warnings\n",
    "warnings.filterwarnings(\"ignore\")"
   ]
  },
  {
   "cell_type": "code",
   "execution_count": 2,
   "metadata": {
    "colab": {
     "base_uri": "https://localhost:8080/"
    },
    "id": "2mVrOdVhsubO",
    "outputId": "6ded1566-1d8c-475b-e843-0e99e1a7b9ec"
   },
   "outputs": [
    {
     "name": "stdout",
     "output_type": "stream",
     "text": [
      "      X1     X2   X3     X4   X5      X6     X7     X8    y\n",
      "0  540.0    0.0  0.0  162.0  2.5  1040.0  676.0   28.0  1.0\n",
      "1  540.0    0.0  0.0  162.0  2.5  1055.0  676.0   28.0  1.0\n",
      "2  332.5  142.5  0.0  228.0  0.0   932.0  594.0  270.0  1.0\n",
      "3  332.5  142.5  0.0  228.0  0.0   932.0  594.0  365.0  1.0\n",
      "\n",
      "Dataset has 1030 rows and 9 columns\n",
      "\n",
      "0    1.0\n",
      "1    1.0\n",
      "2    1.0\n",
      "3    1.0\n",
      "Name: y, dtype: float64\n",
      "(1030,)\n",
      "\n",
      "      X1     X2   X3     X4   X5      X6     X7     X8\n",
      "0  540.0    0.0  0.0  162.0  2.5  1040.0  676.0   28.0\n",
      "1  540.0    0.0  0.0  162.0  2.5  1055.0  676.0   28.0\n",
      "2  332.5  142.5  0.0  228.0  0.0   932.0  594.0  270.0\n",
      "3  332.5  142.5  0.0  228.0  0.0   932.0  594.0  365.0\n",
      "(1030, 8)\n"
     ]
    }
   ],
   "source": [
    "# Load Dataset:\n",
    "data_url = 'https://raw.githubusercontent.com/Moataz-AbdElKhalek/Concrete_Compressive_Strength_Prediction/main/dataset/Concrete_Dataset_Classification.csv'\n",
    "dataset = pd.read_csv(data_url)\n",
    "\n",
    "print(dataset.head(4))\n",
    "\n",
    "# Descriptive statistics\n",
    "print(\"\\nDataset has {} rows and {} columns\".format(dataset.shape[0],dataset.shape[1]))\n",
    "\n",
    "print()\n",
    "y = dataset['y']\n",
    "print(y.head(4))\n",
    "print(y.shape)\n",
    "print()\n",
    "\n",
    "X = dataset.drop(['y'], axis=1)\n",
    "print(X.head(4))\n",
    "print(X.shape)"
   ]
  },
  {
   "cell_type": "code",
   "execution_count": 3,
   "metadata": {
    "colab": {
     "base_uri": "https://localhost:8080/",
     "height": 300
    },
    "id": "7C35BaX51olB",
    "outputId": "2351c029-a901-46fb-8382-bc3ad6af3bc8"
   },
   "outputs": [
    {
     "data": {
      "text/html": [
       "<div>\n",
       "<style scoped>\n",
       "    .dataframe tbody tr th:only-of-type {\n",
       "        vertical-align: middle;\n",
       "    }\n",
       "\n",
       "    .dataframe tbody tr th {\n",
       "        vertical-align: top;\n",
       "    }\n",
       "\n",
       "    .dataframe thead th {\n",
       "        text-align: right;\n",
       "    }\n",
       "</style>\n",
       "<table border=\"1\" class=\"dataframe\">\n",
       "  <thead>\n",
       "    <tr style=\"text-align: right;\">\n",
       "      <th></th>\n",
       "      <th>X1</th>\n",
       "      <th>X2</th>\n",
       "      <th>X3</th>\n",
       "      <th>X4</th>\n",
       "      <th>X5</th>\n",
       "      <th>X6</th>\n",
       "      <th>X7</th>\n",
       "      <th>X8</th>\n",
       "      <th>y</th>\n",
       "    </tr>\n",
       "  </thead>\n",
       "  <tbody>\n",
       "    <tr>\n",
       "      <th>count</th>\n",
       "      <td>1030.000000</td>\n",
       "      <td>1030.000000</td>\n",
       "      <td>1030.000000</td>\n",
       "      <td>1030.000000</td>\n",
       "      <td>1030.000000</td>\n",
       "      <td>1030.000000</td>\n",
       "      <td>1030.000000</td>\n",
       "      <td>1030.000000</td>\n",
       "      <td>1030.000000</td>\n",
       "    </tr>\n",
       "    <tr>\n",
       "      <th>mean</th>\n",
       "      <td>281.167864</td>\n",
       "      <td>73.895825</td>\n",
       "      <td>54.188350</td>\n",
       "      <td>181.567282</td>\n",
       "      <td>6.204660</td>\n",
       "      <td>972.918932</td>\n",
       "      <td>773.580485</td>\n",
       "      <td>45.662136</td>\n",
       "      <td>-0.048544</td>\n",
       "    </tr>\n",
       "    <tr>\n",
       "      <th>std</th>\n",
       "      <td>104.506364</td>\n",
       "      <td>86.279342</td>\n",
       "      <td>63.997004</td>\n",
       "      <td>21.354219</td>\n",
       "      <td>5.973841</td>\n",
       "      <td>77.753954</td>\n",
       "      <td>80.175980</td>\n",
       "      <td>63.169912</td>\n",
       "      <td>0.999306</td>\n",
       "    </tr>\n",
       "    <tr>\n",
       "      <th>min</th>\n",
       "      <td>102.000000</td>\n",
       "      <td>0.000000</td>\n",
       "      <td>0.000000</td>\n",
       "      <td>121.800000</td>\n",
       "      <td>0.000000</td>\n",
       "      <td>801.000000</td>\n",
       "      <td>594.000000</td>\n",
       "      <td>1.000000</td>\n",
       "      <td>-1.000000</td>\n",
       "    </tr>\n",
       "    <tr>\n",
       "      <th>25%</th>\n",
       "      <td>192.375000</td>\n",
       "      <td>0.000000</td>\n",
       "      <td>0.000000</td>\n",
       "      <td>164.900000</td>\n",
       "      <td>0.000000</td>\n",
       "      <td>932.000000</td>\n",
       "      <td>730.950000</td>\n",
       "      <td>7.000000</td>\n",
       "      <td>-1.000000</td>\n",
       "    </tr>\n",
       "    <tr>\n",
       "      <th>50%</th>\n",
       "      <td>272.900000</td>\n",
       "      <td>22.000000</td>\n",
       "      <td>0.000000</td>\n",
       "      <td>185.000000</td>\n",
       "      <td>6.400000</td>\n",
       "      <td>968.000000</td>\n",
       "      <td>779.500000</td>\n",
       "      <td>28.000000</td>\n",
       "      <td>-1.000000</td>\n",
       "    </tr>\n",
       "    <tr>\n",
       "      <th>75%</th>\n",
       "      <td>350.000000</td>\n",
       "      <td>142.950000</td>\n",
       "      <td>118.300000</td>\n",
       "      <td>192.000000</td>\n",
       "      <td>10.200000</td>\n",
       "      <td>1029.400000</td>\n",
       "      <td>824.000000</td>\n",
       "      <td>56.000000</td>\n",
       "      <td>1.000000</td>\n",
       "    </tr>\n",
       "    <tr>\n",
       "      <th>max</th>\n",
       "      <td>540.000000</td>\n",
       "      <td>359.400000</td>\n",
       "      <td>200.100000</td>\n",
       "      <td>247.000000</td>\n",
       "      <td>32.200000</td>\n",
       "      <td>1145.000000</td>\n",
       "      <td>992.600000</td>\n",
       "      <td>365.000000</td>\n",
       "      <td>1.000000</td>\n",
       "    </tr>\n",
       "  </tbody>\n",
       "</table>\n",
       "</div>"
      ],
      "text/plain": [
       "                X1           X2           X3           X4           X5  \\\n",
       "count  1030.000000  1030.000000  1030.000000  1030.000000  1030.000000   \n",
       "mean    281.167864    73.895825    54.188350   181.567282     6.204660   \n",
       "std     104.506364    86.279342    63.997004    21.354219     5.973841   \n",
       "min     102.000000     0.000000     0.000000   121.800000     0.000000   \n",
       "25%     192.375000     0.000000     0.000000   164.900000     0.000000   \n",
       "50%     272.900000    22.000000     0.000000   185.000000     6.400000   \n",
       "75%     350.000000   142.950000   118.300000   192.000000    10.200000   \n",
       "max     540.000000   359.400000   200.100000   247.000000    32.200000   \n",
       "\n",
       "                X6           X7           X8            y  \n",
       "count  1030.000000  1030.000000  1030.000000  1030.000000  \n",
       "mean    972.918932   773.580485    45.662136    -0.048544  \n",
       "std      77.753954    80.175980    63.169912     0.999306  \n",
       "min     801.000000   594.000000     1.000000    -1.000000  \n",
       "25%     932.000000   730.950000     7.000000    -1.000000  \n",
       "50%     968.000000   779.500000    28.000000    -1.000000  \n",
       "75%    1029.400000   824.000000    56.000000     1.000000  \n",
       "max    1145.000000   992.600000   365.000000     1.000000  "
      ]
     },
     "execution_count": 3,
     "metadata": {},
     "output_type": "execute_result"
    }
   ],
   "source": [
    "# Applying statistical Analysis on the data:\n",
    "dataset.describe()"
   ]
  },
  {
   "cell_type": "code",
   "execution_count": 4,
   "metadata": {
    "colab": {
     "base_uri": "https://localhost:8080/"
    },
    "id": "kP8yilw2O8gE",
    "outputId": "c08e8f40-8263-43cf-e661-8c1e0895795c"
   },
   "outputs": [
    {
     "name": "stdout",
     "output_type": "stream",
     "text": [
      "(721, 8)\n",
      "(721,)\n",
      "(309, 8)\n",
      "(309,)\n"
     ]
    }
   ],
   "source": [
    "# Dividing samples dataset into training and test datasets:\n",
    "def dataset_divide(X, y):\n",
    "  X_train, X_test, y_train, y_test = sklearn.model_selection.train_test_split(X, y, train_size=0.70, random_state=1)\n",
    "  return X_train, X_test, y_train, y_test\n",
    "\n",
    "X_train, X_test, y_train, y_test = dataset_divide(X,y)\n",
    "print(X_train.shape)\n",
    "print(y_train.shape)\n",
    "print(X_test.shape)\n",
    "print(y_test.shape)"
   ]
  },
  {
   "cell_type": "code",
   "execution_count": 11,
   "metadata": {
    "id": "ZpdHqoWCVNTU"
   },
   "outputs": [],
   "source": [
    "# ANN Classification Model:\n",
    "def NN_Classification(X,y, max_iter=200, alpha=0.01668, hidden_layer_sizes=(64, 64, 64, 64, 64, 64, 64, 64, 64, 64, 64, 64, 64, 64, 64, 64)):\n",
    "  model = sklearn.neural_network.MLPClassifier(hidden_layer_sizes=hidden_layer_sizes, activation='relu',random_state=1, max_iter=max_iter,alpha=alpha)\n",
    "  model.fit(X, y)\n",
    "\n",
    "  return model"
   ]
  },
  {
   "cell_type": "code",
   "execution_count": 12,
   "metadata": {
    "colab": {
     "base_uri": "https://localhost:8080/",
     "height": 282
    },
    "id": "eXu_R1mcznVr",
    "outputId": "73352b8c-348e-41bd-991d-f5ad9cfd7751"
   },
   "outputs": [
    {
     "name": "stdout",
     "output_type": "stream",
     "text": [
      "0.8705501618122977\n"
     ]
    }
   ],
   "source": [
    "# ANN Classification Model Training:\n",
    "NN_Model = NN_Classification(X_train, y_train)\n",
    "\n",
    "# ANN Classification Model Testing:\n",
    "current_score = NN_Model.score(X_test,y_test)\n",
    "y_test_hat = NN_Model.predict(X_test) # testing output]\n",
    "\n",
    "print(current_score)"
   ]
  },
  {
   "cell_type": "code",
   "execution_count": 9,
   "metadata": {
    "id": "NEHu66DPrmh6"
   },
   "outputs": [
    {
     "data": {
      "application/vnd.jupyter.widget-view+json": {
       "model_id": "19b79e0b19794df0a59372b8b1c90237",
       "version_major": 2,
       "version_minor": 0
      },
      "text/plain": [
       "HBox(children=(HTML(value=''), FloatProgress(value=0.0, max=2000.0), HTML(value='')))"
      ]
     },
     "metadata": {},
     "output_type": "display_data"
    },
    {
     "name": "stdout",
     "output_type": "stream",
     "text": [
      "\n"
     ]
    }
   ],
   "source": [
    "def learning_curve_hidden(X, y, filename=0):\n",
    "  return 0\n",
    "\n",
    "scores_hidden = numpy.array([]) # 1-D numpy array of scores\n",
    "layers = []\n",
    "number_of_layers = 20\n",
    "number_of_nodes_per_layers = 100\n",
    "\n",
    "for n in range(number_of_nodes_per_layers):\n",
    "  temp = numpy.array([[n+1]])\n",
    "  for m in range(number_of_layers):\n",
    "    hidden = numpy.repeat(temp, repeats=m+1, axis=1)\n",
    "    layers.append(hidden.tolist())\n",
    "\n",
    "for i in tqdm(range(number_of_layers*number_of_nodes_per_layers)):\n",
    "  NN_Model = NN_Classification(X_train, y_train, hidden_layer_sizes=layers[i][0])\n",
    "  current_score = NN_Model.score(X_test,y_test)\n",
    "  scores_hidden = numpy.append(scores_hidden,current_score)\n",
    "\n",
    "#learning_curve_hidden(X_train,y_train)"
   ]
  },
  {
   "cell_type": "code",
   "execution_count": 10,
   "metadata": {
    "id": "zcZzwtZ_VPxE"
   },
   "outputs": [
    {
     "name": "stdout",
     "output_type": "stream",
     "text": [
      "best_score_hidden = 0.8705501618122977\n",
      "best_score_hidden_index = 1275\n",
      "best_hidden_layer = [[64, 64, 64, 64, 64, 64, 64, 64, 64, 64, 64, 64, 64, 64, 64, 64]]\n",
      "best_score_hidden_indeces = (array([1275]),)\n",
      "best_hidden_layers = [[64, 64, 64, 64, 64, 64, 64, 64, 64, 64, 64, 64, 64, 64, 64, 64]]\n"
     ]
    },
    {
     "data": {
      "image/png": "[encoded data removed]",
      "text/plain": [
       "<Figure size 432x288 with 1 Axes>"
      ]
     },
     "metadata": {
      "needs_background": "light"
     },
     "output_type": "display_data"
    }
   ],
   "source": [
    "best_score_hidden_index = numpy.argmax(scores_hidden)\n",
    "best_score_hidden = scores_hidden[best_score_hidden_index]\n",
    "best_hidden = layers[best_score_hidden_index]\n",
    "\n",
    "print('best_score_hidden =', best_score_hidden)\n",
    "print('best_score_hidden_index =',best_score_hidden_index)\n",
    "print('best_hidden_layer =',best_hidden)\n",
    "\n",
    "best_score_hidden_indeces = numpy.where(scores_hidden == best_score_hidden)\n",
    "print('best_score_hidden_indeces =', best_score_hidden_indeces)\n",
    "for i in best_score_hidden_indeces[0]:\n",
    "  print('best_hidden_layers =', layers[i])\n",
    "\n",
    "layer_index = range(number_of_layers*number_of_nodes_per_layers)\n",
    "matplotlib.pyplot.plot(layer_index,scores_hidden)\n",
    "#matplotlib.pyplot.show()\n",
    "matplotlib.pyplot.savefig('hidden_layers_score.png')"
   ]
  },
  {
   "cell_type": "code",
   "execution_count": null,
   "metadata": {},
   "outputs": [],
   "source": []
  }
 ],
 "metadata": {
  "colab": {
   "collapsed_sections": [],
   "name": "Project.ipynb",
   "provenance": []
  },
  "kernelspec": {
   "display_name": "Python 3",
   "language": "python",
   "name": "python3"
  },
  "language_info": {
   "codemirror_mode": {
    "name": "ipython",
    "version": 3
   },
   "file_extension": ".py",
   "mimetype": "text/x-python",
   "name": "python",
   "nbconvert_exporter": "python",
   "pygments_lexer": "ipython3",
   "version": "3.8.5"
  }
 },
 "nbformat": 4,
 "nbformat_minor": 1
}
