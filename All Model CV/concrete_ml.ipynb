{
  "nbformat": 4,
  "nbformat_minor": 0,
  "metadata": {
    "colab": {
      "name": "Project.ipynb",
      "provenance": [],
      "collapsed_sections": []
    },
    "kernelspec": {
      "name": "python3",
      "display_name": "Python 3"
    }
  },
  "cells": [
    {
      "cell_type": "code",
      "metadata": {
        "id": "lQg_lUscFdBc"
      },
      "source": [
        "# Importing relevant modules\n",
        "import sklearn.neural_network\n",
        "import numpy\n",
        "import pandas as pd\n",
        "import matplotlib\n",
        "import matplotlib.pyplot as plt\n",
        "import itertools\n",
        "%matplotlib inline\n",
        "import sklearn\n",
        "\n",
        "# Ignoring warnings\n",
        "import warnings\n",
        "warnings.filterwarnings(\"ignore\")"
      ],
      "execution_count": 1,
      "outputs": []
    },
    {
      "cell_type": "code",
      "metadata": {
        "id": "2mVrOdVhsubO",
        "colab": {
          "base_uri": "https://localhost:8080/"
        },
        "outputId": "6ded1566-1d8c-475b-e843-0e99e1a7b9ec"
      },
      "source": [
        "# Load Dataset:\n",
        "data_url = 'https://raw.githubusercontent.com/Moataz-AbdElKhalek/Concrete_Compressive_Strength_Prediction/main/dataset/Concrete_Dataset_Classification.csv'\n",
        "dataset = pd.read_csv(data_url)\n",
        "\n",
        "print(dataset.head(4))\n",
        "\n",
        "# Descriptive statistics\n",
        "print(\"\\nDataset has {} rows and {} columns\".format(dataset.shape[0],dataset.shape[1]))\n",
        "\n",
        "print()\n",
        "y = dataset['y']\n",
        "print(y.head(4))\n",
        "print(y.shape)\n",
        "print()\n",
        "\n",
        "X = dataset.drop(['y'], axis=1)\n",
        "print(X.head(4))\n",
        "print(X.shape)"
      ],
      "execution_count": 2,
      "outputs": [
        {
          "output_type": "stream",
          "text": [
            "      X1     X2   X3     X4   X5      X6     X7     X8    y\n",
            "0  540.0    0.0  0.0  162.0  2.5  1040.0  676.0   28.0  1.0\n",
            "1  540.0    0.0  0.0  162.0  2.5  1055.0  676.0   28.0  1.0\n",
            "2  332.5  142.5  0.0  228.0  0.0   932.0  594.0  270.0  1.0\n",
            "3  332.5  142.5  0.0  228.0  0.0   932.0  594.0  365.0  1.0\n",
            "\n",
            "Dataset has 1030 rows and 9 columns\n",
            "\n",
            "0    1.0\n",
            "1    1.0\n",
            "2    1.0\n",
            "3    1.0\n",
            "Name: y, dtype: float64\n",
            "(1030,)\n",
            "\n",
            "      X1     X2   X3     X4   X5      X6     X7     X8\n",
            "0  540.0    0.0  0.0  162.0  2.5  1040.0  676.0   28.0\n",
            "1  540.0    0.0  0.0  162.0  2.5  1055.0  676.0   28.0\n",
            "2  332.5  142.5  0.0  228.0  0.0   932.0  594.0  270.0\n",
            "3  332.5  142.5  0.0  228.0  0.0   932.0  594.0  365.0\n",
            "(1030, 8)\n"
          ],
          "name": "stdout"
        }
      ]
    },
    {
      "cell_type": "code",
      "metadata": {
        "id": "7C35BaX51olB",
        "colab": {
          "base_uri": "https://localhost:8080/",
          "height": 300
        },
        "outputId": "2351c029-a901-46fb-8382-bc3ad6af3bc8"
      },
      "source": [
        "# Applying statistical Analysis on the data:\n",
        "dataset.describe()"
      ],
      "execution_count": 3,
      "outputs": [
        {
          "output_type": "execute_result",
          "data": {
            "text/html": [
              "<div>\n",
              "<style scoped>\n",
              "    .dataframe tbody tr th:only-of-type {\n",
              "        vertical-align: middle;\n",
              "    }\n",
              "\n",
              "    .dataframe tbody tr th {\n",
              "        vertical-align: top;\n",
              "    }\n",
              "\n",
              "    .dataframe thead th {\n",
              "        text-align: right;\n",
              "    }\n",
              "</style>\n",
              "<table border=\"1\" class=\"dataframe\">\n",
              "  <thead>\n",
              "    <tr style=\"text-align: right;\">\n",
              "      <th></th>\n",
              "      <th>X1</th>\n",
              "      <th>X2</th>\n",
              "      <th>X3</th>\n",
              "      <th>X4</th>\n",
              "      <th>X5</th>\n",
              "      <th>X6</th>\n",
              "      <th>X7</th>\n",
              "      <th>X8</th>\n",
              "      <th>y</th>\n",
              "    </tr>\n",
              "  </thead>\n",
              "  <tbody>\n",
              "    <tr>\n",
              "      <th>count</th>\n",
              "      <td>1030.000000</td>\n",
              "      <td>1030.000000</td>\n",
              "      <td>1030.000000</td>\n",
              "      <td>1030.000000</td>\n",
              "      <td>1030.000000</td>\n",
              "      <td>1030.000000</td>\n",
              "      <td>1030.000000</td>\n",
              "      <td>1030.000000</td>\n",
              "      <td>1030.000000</td>\n",
              "    </tr>\n",
              "    <tr>\n",
              "      <th>mean</th>\n",
              "      <td>281.167864</td>\n",
              "      <td>73.895825</td>\n",
              "      <td>54.188350</td>\n",
              "      <td>181.567282</td>\n",
              "      <td>6.204660</td>\n",
              "      <td>972.918932</td>\n",
              "      <td>773.580485</td>\n",
              "      <td>45.662136</td>\n",
              "      <td>-0.048544</td>\n",
              "    </tr>\n",
              "    <tr>\n",
              "      <th>std</th>\n",
              "      <td>104.506364</td>\n",
              "      <td>86.279342</td>\n",
              "      <td>63.997004</td>\n",
              "      <td>21.354219</td>\n",
              "      <td>5.973841</td>\n",
              "      <td>77.753954</td>\n",
              "      <td>80.175980</td>\n",
              "      <td>63.169912</td>\n",
              "      <td>0.999306</td>\n",
              "    </tr>\n",
              "    <tr>\n",
              "      <th>min</th>\n",
              "      <td>102.000000</td>\n",
              "      <td>0.000000</td>\n",
              "      <td>0.000000</td>\n",
              "      <td>121.800000</td>\n",
              "      <td>0.000000</td>\n",
              "      <td>801.000000</td>\n",
              "      <td>594.000000</td>\n",
              "      <td>1.000000</td>\n",
              "      <td>-1.000000</td>\n",
              "    </tr>\n",
              "    <tr>\n",
              "      <th>25%</th>\n",
              "      <td>192.375000</td>\n",
              "      <td>0.000000</td>\n",
              "      <td>0.000000</td>\n",
              "      <td>164.900000</td>\n",
              "      <td>0.000000</td>\n",
              "      <td>932.000000</td>\n",
              "      <td>730.950000</td>\n",
              "      <td>7.000000</td>\n",
              "      <td>-1.000000</td>\n",
              "    </tr>\n",
              "    <tr>\n",
              "      <th>50%</th>\n",
              "      <td>272.900000</td>\n",
              "      <td>22.000000</td>\n",
              "      <td>0.000000</td>\n",
              "      <td>185.000000</td>\n",
              "      <td>6.400000</td>\n",
              "      <td>968.000000</td>\n",
              "      <td>779.500000</td>\n",
              "      <td>28.000000</td>\n",
              "      <td>-1.000000</td>\n",
              "    </tr>\n",
              "    <tr>\n",
              "      <th>75%</th>\n",
              "      <td>350.000000</td>\n",
              "      <td>142.950000</td>\n",
              "      <td>118.300000</td>\n",
              "      <td>192.000000</td>\n",
              "      <td>10.200000</td>\n",
              "      <td>1029.400000</td>\n",
              "      <td>824.000000</td>\n",
              "      <td>56.000000</td>\n",
              "      <td>1.000000</td>\n",
              "    </tr>\n",
              "    <tr>\n",
              "      <th>max</th>\n",
              "      <td>540.000000</td>\n",
              "      <td>359.400000</td>\n",
              "      <td>200.100000</td>\n",
              "      <td>247.000000</td>\n",
              "      <td>32.200000</td>\n",
              "      <td>1145.000000</td>\n",
              "      <td>992.600000</td>\n",
              "      <td>365.000000</td>\n",
              "      <td>1.000000</td>\n",
              "    </tr>\n",
              "  </tbody>\n",
              "</table>\n",
              "</div>"
            ],
            "text/plain": [
              "                X1           X2  ...           X8            y\n",
              "count  1030.000000  1030.000000  ...  1030.000000  1030.000000\n",
              "mean    281.167864    73.895825  ...    45.662136    -0.048544\n",
              "std     104.506364    86.279342  ...    63.169912     0.999306\n",
              "min     102.000000     0.000000  ...     1.000000    -1.000000\n",
              "25%     192.375000     0.000000  ...     7.000000    -1.000000\n",
              "50%     272.900000    22.000000  ...    28.000000    -1.000000\n",
              "75%     350.000000   142.950000  ...    56.000000     1.000000\n",
              "max     540.000000   359.400000  ...   365.000000     1.000000\n",
              "\n",
              "[8 rows x 9 columns]"
            ]
          },
          "metadata": {
            "tags": []
          },
          "execution_count": 3
        }
      ]
    },
    {
      "cell_type": "code",
      "metadata": {
        "id": "kP8yilw2O8gE",
        "colab": {
          "base_uri": "https://localhost:8080/"
        },
        "outputId": "c08e8f40-8263-43cf-e661-8c1e0895795c"
      },
      "source": [
        "# Dividing samples dataset into training and test datasets:\n",
        "def dataset_divide(X, y):\n",
        "  X_train, X_test, y_train, y_test = sklearn.model_selection.train_test_split(X, y, train_size=0.70, random_state=1)\n",
        "  return X_train, X_test, y_train, y_test\n",
        "\n",
        "X_train, X_test, y_train, y_test = dataset_divide(X,y)\n",
        "print(X_train.shape)\n",
        "print(y_train.shape)\n",
        "print(X_test.shape)\n",
        "print(y_test.shape)"
      ],
      "execution_count": 4,
      "outputs": [
        {
          "output_type": "stream",
          "text": [
            "(721, 8)\n",
            "(721,)\n",
            "(309, 8)\n",
            "(309,)\n"
          ],
          "name": "stdout"
        }
      ]
    },
    {
      "cell_type": "code",
      "metadata": {
        "id": "ZpdHqoWCVNTU"
      },
      "source": [
        "# ANN Classification Model:\n",
        "def NN_Classification(X,y, max_iter=200, alpha=0.01668, hidden_layer_sizes=[39, 39, 39, 39, 39, 39]):\n",
        "  model = sklearn.neural_network.MLPClassifier(hidden_layer_sizes=hidden_layer_sizes, activation='relu',random_state=1, max_iter=max_iter,alpha=alpha)\n",
        "  model.fit(X, y)\n",
        "\n",
        "  return model"
      ],
      "execution_count": 5,
      "outputs": []
    },
    {
      "cell_type": "code",
      "metadata": {
        "id": "eXu_R1mcznVr",
        "colab": {
          "base_uri": "https://localhost:8080/",
          "height": 282
        },
        "outputId": "73352b8c-348e-41bd-991d-f5ad9cfd7751"
      },
      "source": [
        "# ANN Classification Model Training:\n",
        "NN_Model = NN_Classification(X_train, y_train)\n",
        "\n",
        "# ANN Classification Model Testing:\n",
        "current_score = NN_Model.score(X_test,y_test)\n",
        "y_test_hat = NN_Model.predict(X_test) # testing output]\n",
        "\n",
        "print(current_score)\n",
        "matplotlib.pyplot.scatter(y_test,y_test_hat)\n",
        "matplotlib.pyplot.show()"
      ],
      "execution_count": 6,
      "outputs": [
        {
          "output_type": "stream",
          "text": [
            "0.8576051779935275\n"
          ],
          "name": "stdout"
        },
        {
          "output_type": "display_data",
          "data": {
            "image/png": "[encoded data removed]",
            "text/plain": [
              "<Figure size 432x288 with 1 Axes>"
            ]
          },
          "metadata": {
            "tags": [],
            "needs_background": "light"
          }
        }
      ]
    },
    {
      "cell_type": "code",
      "metadata": {
        "id": "z5-2Y9-i5wyF"
      },
      "source": [
        "#def learning_curve_maxiters(X, y, filename=0):\n",
        "#  return 0\n",
        "\n",
        "max_iters = numpy.arange(50,1000,10) # 1-D numpy array of max_iterations from 50 to 2000 with step 50\n",
        "scores_iter = numpy.array([]) # 1-D numpy array of scores\n",
        "\n",
        "for current_max_iter in max_iters:\n",
        "  NN_Model = NN_Classification(X_train, y_train, max_iter=current_max_iter)\n",
        "  current_score = NN_Model.score(X_test,y_test)\n",
        "  scores_iter = numpy.append(scores_iter,current_score)\n",
        "\n",
        "#learning_curve_maxiters(X_train,y_train)"
      ],
      "execution_count": 7,
      "outputs": []
    },
    {
      "cell_type": "code",
      "metadata": {
        "colab": {
          "base_uri": "https://localhost:8080/",
          "height": 319
        },
        "id": "OVL9Bg_grTFN",
        "outputId": "a1d617bd-b7de-4cbb-f233-f37ac4899fee"
      },
      "source": [
        "best_score_iter_index = numpy.argmax(scores_iter)\n",
        "best_score_iter = scores_iter[best_score_iter_index]\n",
        "best_max_iters = max_iters[best_score_iter_index]\n",
        "\n",
        "print('best_score_iter =', best_score_iter)\n",
        "print('best_score_iter_index =', best_score_iter_index)\n",
        "print('best_max_iters =', best_max_iters)\n",
        "\n",
        "matplotlib.pyplot.plot(max_iters,scores_iter)\n",
        "#matplotlib.pyplot.show()\n",
        "matplotlib.pyplot.savefig('max_iterations_scores.png')"
      ],
      "execution_count": 8,
      "outputs": [
        {
          "output_type": "stream",
          "text": [
            "best_score_iter = 0.8576051779935275\n",
            "best_score_iter_index = 10\n",
            "best_max_iters = 150\n"
          ],
          "name": "stdout"
        },
        {
          "output_type": "display_data",
          "data": {
            "image/png": "[encoded data removed]",
            "text/plain": [
              "<Figure size 432x288 with 1 Axes>"
            ]
          },
          "metadata": {
            "tags": [],
            "needs_background": "light"
          }
        }
      ]
    },
    {
      "cell_type": "code",
      "metadata": {
        "id": "AtPig-zeZVuf"
      },
      "source": [
        "#def learning_curve_alpha(X, y, filename=0):\n",
        "#  return 0\n",
        "\n",
        "alphas = numpy.logspace(-100, 2, 10000) # 1-D numpy array of max_iterations from 50 to 2000 with step 50\n",
        "scores_alpha = numpy.array([]) # 1-D numpy array of scores\n",
        "\n",
        "for current_alpha in alphas:\n",
        "  NN_Model = NN_Classification(X_train, y_train, alpha=current_alpha)\n",
        "  current_score = NN_Model.score(X_test,y_test)\n",
        "  scores_alpha = numpy.append(scores_alpha,current_score)\n",
        "\n",
        "#learning_curve_alpha(X_train,y_train)"
      ],
      "execution_count": 9,
      "outputs": []
    },
    {
      "cell_type": "code",
      "metadata": {
        "colab": {
          "base_uri": "https://localhost:8080/",
          "height": 352
        },
        "id": "dyAEAULxsL6Q",
        "outputId": "7545fd5e-4d67-4051-891d-d01d7d9e9ff8"
      },
      "source": [
        "best_score_alpha_index = numpy.argmax(scores_alpha)\n",
        "best_score_alpha = scores_alpha[best_score_alpha_index]\n",
        "best_alpha = alphas[best_score_alpha_index]\n",
        "\n",
        "print('best_score_alpha =', best_score_alpha)\n",
        "print('best_score_alpha_index =', best_score_alpha_index)\n",
        "print('best_alpha =', best_alpha)\n",
        "\n",
        "best_score_alpha_indeces = numpy.where(scores_alpha == best_score_alpha)\n",
        "print('best_score_alpha_indeces =', best_score_alpha_indeces)\n",
        "print('best_alphas =', alphas[best_score_alpha_indeces])\n",
        "\n",
        "matplotlib.pyplot.plot(alphas,scores_alpha)\n",
        "#plt.xlim(0, 1)\n",
        "#matplotlib.pyplot.show()\n",
        "matplotlib.pyplot.savefig('alpha_scores.png')"
      ],
      "execution_count": 10,
      "outputs": [
        {
          "output_type": "stream",
          "text": [
            "best_score_alpha = 0.8576051779935275\n",
            "best_score_alpha_index = 9840\n",
            "best_alpha = 2.388019142386306\n",
            "best_score_alpha_indeces = (array([9840, 9878]),)\n",
            "best_alphas = [2.38801914 5.83010757]\n"
          ],
          "name": "stdout"
        },
        {
          "output_type": "display_data",
          "data": {
            "image/png": "[encoded data removed]",
            "text/plain": [
              "<Figure size 432x288 with 1 Axes>"
            ]
          },
          "metadata": {
            "tags": [],
            "needs_background": "light"
          }
        }
      ]
    },
    {
      "cell_type": "code",
      "metadata": {
        "id": "NEHu66DPrmh6"
      },
      "source": [
        "def learning_curve_hidden(X, y, filename=0):\n",
        "  return 0\n",
        "\n",
        "scores_hidden = numpy.array([]) # 1-D numpy array of scores\n",
        "layers = []\n",
        "number_of_layers = 100\n",
        "number_of_nodes_per_layers = 100\n",
        "\n",
        "for n in range(number_of_nodes_per_layers):\n",
        "  temp = numpy.array([[n+1]])\n",
        "  for m in range(number_of_layers):\n",
        "    hidden = numpy.repeat(temp, repeats=m+1, axis=1)\n",
        "    layers.append(hidden.tolist())\n",
        "\n",
        "for i in range(number_of_layers*number_of_nodes_per_layers):\n",
        "  NN_Model = NN_Classification(X_train, y_train, hidden_layer_sizes=layers[i][0])\n",
        "  current_score = NN_Model.score(X_test,y_test)\n",
        "  scores_hidden = numpy.append(scores_hidden,current_score)\n",
        "\n",
        "#learning_curve_hidden(X_train,y_train)"
      ],
      "execution_count": null,
      "outputs": []
    },
    {
      "cell_type": "code",
      "metadata": {
        "id": "zcZzwtZ_VPxE"
      },
      "source": [
        "best_score_hidden_index = numpy.argmax(scores_hidden)\n",
        "best_score_hidden = scores_hidden[best_score_hidden_index]\n",
        "best_hidden = layers[best_score_hidden_index]\n",
        "\n",
        "print('best_score_hidden =', best_score_hidden)\n",
        "print('best_score_hidden_index =',best_score_hidden_index)\n",
        "print('best_hidden_layer =',best_hidden)\n",
        "\n",
        "best_score_hidden_indeces = numpy.where(scores_hidden == best_score_hidden)\n",
        "print('best_score_hidden_indeces =', best_score_hidden_indeces)\n",
        "for i in best_score_hidden_indeces[0]:\n",
        "  print('best_hidden_layers =', layers[i])\n",
        "\n",
        "layer_index = range(number_of_layers*number_of_nodes_per_layers)\n",
        "matplotlib.pyplot.plot(layer_index,scores_hidden)\n",
        "#matplotlib.pyplot.show()\n",
        "matplotlib.pyplot.savefig('hidden_layers_score.png')"
      ],
      "execution_count": null,
      "outputs": []
    },
    {
      "cell_type": "markdown",
      "metadata": {
        "id": "2n9LviWo_u9Z"
      },
      "source": [
        "# SVM"
      ]
    },
    {
      "cell_type": "code",
      "metadata": {
        "id": "s8YCZW3nU9G_"
      },
      "source": [
        "def study_SVM(C_range,kernel,gamma):\n",
        "    \n",
        "    from sklearn import svm\n",
        "    from sklearn.model_selection import GridSearchCV\n",
        "    import numpy as np\n",
        "    \n",
        "    scores = np.zeros((len(gamma),len(C_range)))\n",
        "    \n",
        "    for i in range (0,len(gamma)):\n",
        "        for j in range (0,len(C_range)):\n",
        "            clf = svm.SVC(C=C_range[j],kernel =kernel,gamma=gamma[i],random_state=1)\n",
        "            clf.fit(X_train,y_train)\n",
        "            clf.predict(X_test)\n",
        "            scores[i,j]=clf.score(X_test,y_test)\n",
        "    \n",
        "    #Finding best parameters\n",
        "    best_C, best_gamma = 0, 0\n",
        "    model = sklearn.svm.SVC(kernel=kernel,random_state=1)\n",
        "    paras = {'C':C_range, 'gamma':gamma}\n",
        "    clf_1 = GridSearchCV(model, paras)\n",
        "    clf_1.fit(X_train, y_train)\n",
        "    clf_1.predict(X_test)\n",
        "    best_C=clf_1.best_params_['C']\n",
        "    best_gamma=clf_1.best_params_['gamma']\n",
        "            \n",
        "    print('---------Max.score---------')\n",
        "    print(np.amax(scores))\n",
        "    print('---------Best_C---------')\n",
        "    print(best_C)\n",
        "    print('---------Best_gamma---------')\n",
        "    print(best_gamma)\n",
        "    print('---------Full.scores---------')\n",
        "    return scores"
      ],
      "execution_count": null,
      "outputs": []
    },
    {
      "cell_type": "code",
      "metadata": {
        "colab": {
          "base_uri": "https://localhost:8080/"
        },
        "id": "Eaqid71-VHHe",
        "outputId": "7f0a0583-65c7-48bd-bc7d-a07d000995c8"
      },
      "source": [
        "study_SVM([10**p for p in range(-5, 5, 1)],'rbf',[10**p for p in range(-5, 5, 1)])"
      ],
      "execution_count": null,
      "outputs": [
        {
          "output_type": "stream",
          "text": [
            "---------Max.score---------\n",
            "0.889967637540453\n",
            "---------Best_C---------\n",
            "10000\n",
            "---------Best_gamma---------\n",
            "1e-05\n",
            "---------Full.scores---------\n"
          ],
          "name": "stdout"
        },
        {
          "output_type": "execute_result",
          "data": {
            "text/plain": [
              "array([[0.50809061, 0.50809061, 0.50809061, 0.50809061, 0.72491909,\n",
              "        0.78964401, 0.79288026, 0.82847896, 0.84466019, 0.88996764],\n",
              "       [0.50809061, 0.50809061, 0.50809061, 0.50809061, 0.77346278,\n",
              "        0.80582524, 0.82200647, 0.85760518, 0.87378641, 0.87702265],\n",
              "       [0.50809061, 0.50809061, 0.50809061, 0.50809061, 0.51132686,\n",
              "        0.77346278, 0.77993528, 0.79935275, 0.79935275, 0.79935275],\n",
              "       [0.50809061, 0.50809061, 0.50809061, 0.50809061, 0.50809061,\n",
              "        0.61488673, 0.63106796, 0.63106796, 0.63106796, 0.63106796],\n",
              "       [0.50809061, 0.50809061, 0.50809061, 0.50809061, 0.50809061,\n",
              "        0.61165049, 0.61165049, 0.61165049, 0.61165049, 0.61165049],\n",
              "       [0.50809061, 0.50809061, 0.50809061, 0.50809061, 0.50809061,\n",
              "        0.58899676, 0.58899676, 0.58899676, 0.58899676, 0.58899676],\n",
              "       [0.50809061, 0.50809061, 0.50809061, 0.50809061, 0.50809061,\n",
              "        0.54045307, 0.54368932, 0.54368932, 0.54368932, 0.54368932],\n",
              "       [0.50809061, 0.50809061, 0.50809061, 0.50809061, 0.50809061,\n",
              "        0.53074434, 0.53074434, 0.53074434, 0.53074434, 0.53074434],\n",
              "       [0.50809061, 0.50809061, 0.50809061, 0.50809061, 0.50809061,\n",
              "        0.53074434, 0.53074434, 0.53074434, 0.53074434, 0.53074434],\n",
              "       [0.50809061, 0.50809061, 0.50809061, 0.50809061, 0.50809061,\n",
              "        0.53074434, 0.53074434, 0.53074434, 0.53074434, 0.53074434]])"
            ]
          },
          "metadata": {
            "tags": []
          },
          "execution_count": 109
        }
      ]
    }
  ]
}