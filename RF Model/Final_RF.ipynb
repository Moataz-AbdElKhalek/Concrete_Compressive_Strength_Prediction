{
 "cells": [
  {
   "cell_type": "code",
   "execution_count": 1,
   "metadata": {
    "id": "HEKmxwqEnvqH"
   },
   "outputs": [],
   "source": [
    "# Importing relevant modules\n",
    "import numpy\n",
    "import pandas as pd\n",
    "import matplotlib\n",
    "%matplotlib inline\n",
    "from tqdm import tqdm_notebook as tqdm\n",
    "import sklearn\n",
    "import sklearn.model_selection\n",
    "import sklearn.neural_network\n",
    "import sklearn.ensemble\n",
    "import sklearn.svm\n",
    "import sklearn.preprocessing\n",
    "import sklearn.metrics\n",
    "import scipy.stats\n",
    "\n",
    "\n",
    "# Ignoring warnings\n",
    "import warnings\n",
    "warnings.filterwarnings(\"ignore\")"
   ]
  },
  {
   "cell_type": "code",
   "execution_count": 2,
   "metadata": {
    "colab": {
     "base_uri": "https://localhost:8080/"
    },
    "id": "dl3qM26Usg40",
    "outputId": "233d9d02-8866-4929-e461-1fbf41ec01a8"
   },
   "outputs": [
    {
     "name": "stdout",
     "output_type": "stream",
     "text": [
      "      X1     X2   X3     X4   X5      X6     X7     X8    y\n",
      "0  540.0    0.0  0.0  162.0  2.5  1040.0  676.0   28.0  1.0\n",
      "1  540.0    0.0  0.0  162.0  2.5  1055.0  676.0   28.0  1.0\n",
      "2  332.5  142.5  0.0  228.0  0.0   932.0  594.0  270.0  1.0\n",
      "3  332.5  142.5  0.0  228.0  0.0   932.0  594.0  365.0  1.0\n",
      "\n",
      "Dataset has 1030 rows and 9 columns\n",
      "\n",
      "0    1.0\n",
      "1    1.0\n",
      "2    1.0\n",
      "3    1.0\n",
      "Name: y, dtype: float64\n",
      "(1030,)\n",
      "\n",
      "      X1     X2   X3     X4   X5      X6     X7     X8\n",
      "0  540.0    0.0  0.0  162.0  2.5  1040.0  676.0   28.0\n",
      "1  540.0    0.0  0.0  162.0  2.5  1055.0  676.0   28.0\n",
      "2  332.5  142.5  0.0  228.0  0.0   932.0  594.0  270.0\n",
      "3  332.5  142.5  0.0  228.0  0.0   932.0  594.0  365.0\n",
      "(1030, 8)\n"
     ]
    }
   ],
   "source": [
    "# Load Dataset:\n",
    "data_url = 'https://raw.githubusercontent.com/Moataz-AbdElKhalek/Concrete_Compressive_Strength_Prediction/main/dataset/Concrete_Dataset_Classification.csv'\n",
    "dataset = pd.read_csv(data_url)\n",
    "\n",
    "print(dataset.head(4))\n",
    "\n",
    "# Descriptive statistics\n",
    "print(\"\\nDataset has {} rows and {} columns\".format(dataset.shape[0],dataset.shape[1]))\n",
    "\n",
    "print()\n",
    "y = dataset['y']\n",
    "print(y.head(4))\n",
    "print(y.shape)\n",
    "print()\n",
    "\n",
    "X = dataset.drop(['y'], axis=1)\n",
    "print(X.head(4))\n",
    "print(X.shape)"
   ]
  },
  {
   "cell_type": "code",
   "execution_count": 3,
   "metadata": {
    "colab": {
     "base_uri": "https://localhost:8080/",
     "height": 300
    },
    "id": "1VN7YP2gsidK",
    "outputId": "81496bda-cce1-4b31-f850-408e278ee475"
   },
   "outputs": [
    {
     "data": {
      "text/html": [
       "<div>\n",
       "<style scoped>\n",
       "    .dataframe tbody tr th:only-of-type {\n",
       "        vertical-align: middle;\n",
       "    }\n",
       "\n",
       "    .dataframe tbody tr th {\n",
       "        vertical-align: top;\n",
       "    }\n",
       "\n",
       "    .dataframe thead th {\n",
       "        text-align: right;\n",
       "    }\n",
       "</style>\n",
       "<table border=\"1\" class=\"dataframe\">\n",
       "  <thead>\n",
       "    <tr style=\"text-align: right;\">\n",
       "      <th></th>\n",
       "      <th>X1</th>\n",
       "      <th>X2</th>\n",
       "      <th>X3</th>\n",
       "      <th>X4</th>\n",
       "      <th>X5</th>\n",
       "      <th>X6</th>\n",
       "      <th>X7</th>\n",
       "      <th>X8</th>\n",
       "      <th>y</th>\n",
       "    </tr>\n",
       "  </thead>\n",
       "  <tbody>\n",
       "    <tr>\n",
       "      <th>count</th>\n",
       "      <td>1030.000000</td>\n",
       "      <td>1030.000000</td>\n",
       "      <td>1030.000000</td>\n",
       "      <td>1030.000000</td>\n",
       "      <td>1030.000000</td>\n",
       "      <td>1030.000000</td>\n",
       "      <td>1030.000000</td>\n",
       "      <td>1030.000000</td>\n",
       "      <td>1030.000000</td>\n",
       "    </tr>\n",
       "    <tr>\n",
       "      <th>mean</th>\n",
       "      <td>281.167864</td>\n",
       "      <td>73.895825</td>\n",
       "      <td>54.188350</td>\n",
       "      <td>181.567282</td>\n",
       "      <td>6.204660</td>\n",
       "      <td>972.918932</td>\n",
       "      <td>773.580485</td>\n",
       "      <td>45.662136</td>\n",
       "      <td>-0.048544</td>\n",
       "    </tr>\n",
       "    <tr>\n",
       "      <th>std</th>\n",
       "      <td>104.506364</td>\n",
       "      <td>86.279342</td>\n",
       "      <td>63.997004</td>\n",
       "      <td>21.354219</td>\n",
       "      <td>5.973841</td>\n",
       "      <td>77.753954</td>\n",
       "      <td>80.175980</td>\n",
       "      <td>63.169912</td>\n",
       "      <td>0.999306</td>\n",
       "    </tr>\n",
       "    <tr>\n",
       "      <th>min</th>\n",
       "      <td>102.000000</td>\n",
       "      <td>0.000000</td>\n",
       "      <td>0.000000</td>\n",
       "      <td>121.800000</td>\n",
       "      <td>0.000000</td>\n",
       "      <td>801.000000</td>\n",
       "      <td>594.000000</td>\n",
       "      <td>1.000000</td>\n",
       "      <td>-1.000000</td>\n",
       "    </tr>\n",
       "    <tr>\n",
       "      <th>25%</th>\n",
       "      <td>192.375000</td>\n",
       "      <td>0.000000</td>\n",
       "      <td>0.000000</td>\n",
       "      <td>164.900000</td>\n",
       "      <td>0.000000</td>\n",
       "      <td>932.000000</td>\n",
       "      <td>730.950000</td>\n",
       "      <td>7.000000</td>\n",
       "      <td>-1.000000</td>\n",
       "    </tr>\n",
       "    <tr>\n",
       "      <th>50%</th>\n",
       "      <td>272.900000</td>\n",
       "      <td>22.000000</td>\n",
       "      <td>0.000000</td>\n",
       "      <td>185.000000</td>\n",
       "      <td>6.400000</td>\n",
       "      <td>968.000000</td>\n",
       "      <td>779.500000</td>\n",
       "      <td>28.000000</td>\n",
       "      <td>-1.000000</td>\n",
       "    </tr>\n",
       "    <tr>\n",
       "      <th>75%</th>\n",
       "      <td>350.000000</td>\n",
       "      <td>142.950000</td>\n",
       "      <td>118.300000</td>\n",
       "      <td>192.000000</td>\n",
       "      <td>10.200000</td>\n",
       "      <td>1029.400000</td>\n",
       "      <td>824.000000</td>\n",
       "      <td>56.000000</td>\n",
       "      <td>1.000000</td>\n",
       "    </tr>\n",
       "    <tr>\n",
       "      <th>max</th>\n",
       "      <td>540.000000</td>\n",
       "      <td>359.400000</td>\n",
       "      <td>200.100000</td>\n",
       "      <td>247.000000</td>\n",
       "      <td>32.200000</td>\n",
       "      <td>1145.000000</td>\n",
       "      <td>992.600000</td>\n",
       "      <td>365.000000</td>\n",
       "      <td>1.000000</td>\n",
       "    </tr>\n",
       "  </tbody>\n",
       "</table>\n",
       "</div>"
      ],
      "text/plain": [
       "                X1           X2  ...           X8            y\n",
       "count  1030.000000  1030.000000  ...  1030.000000  1030.000000\n",
       "mean    281.167864    73.895825  ...    45.662136    -0.048544\n",
       "std     104.506364    86.279342  ...    63.169912     0.999306\n",
       "min     102.000000     0.000000  ...     1.000000    -1.000000\n",
       "25%     192.375000     0.000000  ...     7.000000    -1.000000\n",
       "50%     272.900000    22.000000  ...    28.000000    -1.000000\n",
       "75%     350.000000   142.950000  ...    56.000000     1.000000\n",
       "max     540.000000   359.400000  ...   365.000000     1.000000\n",
       "\n",
       "[8 rows x 9 columns]"
      ]
     },
     "execution_count": 3,
     "metadata": {
      "tags": []
     },
     "output_type": "execute_result"
    }
   ],
   "source": [
    "# Applying statistical Analysis on the data:\n",
    "dataset.describe()"
   ]
  },
  {
   "cell_type": "markdown",
   "metadata": {
    "id": "5utOAFbID9ec"
   },
   "source": [
    "# **Data Preprocessing**"
   ]
  },
  {
   "cell_type": "code",
   "execution_count": 4,
   "metadata": {
    "colab": {
     "base_uri": "https://localhost:8080/",
     "height": 578
    },
    "id": "u7vvtyhzD9-F",
    "outputId": "65f88603-df3d-4dc1-8a45-9076636b00ec"
   },
   "outputs": [
    {
     "name": "stdout",
     "output_type": "stream",
     "text": [
      "Data Attributes:\n",
      " Index(['X1', 'X2', 'X3', 'X4', 'X5', 'X6', 'X7', 'X8'], dtype='object')\n",
      "\n",
      "Before Data Scaling:\n",
      "       X1     X2   X3     X4   X5      X6     X7     X8\n",
      "0  540.0    0.0  0.0  162.0  2.5  1040.0  676.0   28.0\n",
      "1  540.0    0.0  0.0  162.0  2.5  1055.0  676.0   28.0\n",
      "2  332.5  142.5  0.0  228.0  0.0   932.0  594.0  270.0\n",
      "3  332.5  142.5  0.0  228.0  0.0   932.0  594.0  365.0\n",
      "\n",
      "After Data Scaling:\n",
      "          X1        X2   X3        X4       X5        X6       X7        X8\n",
      "0  1.000000 -1.000000 -1.0 -0.357827 -0.84472  0.389535 -0.58856 -0.851648\n",
      "1  1.000000 -1.000000 -1.0 -0.357827 -0.84472  0.476744 -0.58856 -0.851648\n",
      "2  0.052511 -0.207012 -1.0  0.696486 -1.00000 -0.238372 -1.00000  0.478022\n",
      "3  0.052511 -0.207012 -1.0  0.696486 -1.00000 -0.238372 -1.00000  1.000000\n"
     ]
    },
    {
     "data": {
      "text/html": [
       "<div>\n",
       "<style scoped>\n",
       "    .dataframe tbody tr th:only-of-type {\n",
       "        vertical-align: middle;\n",
       "    }\n",
       "\n",
       "    .dataframe tbody tr th {\n",
       "        vertical-align: top;\n",
       "    }\n",
       "\n",
       "    .dataframe thead th {\n",
       "        text-align: right;\n",
       "    }\n",
       "</style>\n",
       "<table border=\"1\" class=\"dataframe\">\n",
       "  <thead>\n",
       "    <tr style=\"text-align: right;\">\n",
       "      <th></th>\n",
       "      <th>X1</th>\n",
       "      <th>X2</th>\n",
       "      <th>X3</th>\n",
       "      <th>X4</th>\n",
       "      <th>X5</th>\n",
       "      <th>X6</th>\n",
       "      <th>X7</th>\n",
       "      <th>X8</th>\n",
       "    </tr>\n",
       "  </thead>\n",
       "  <tbody>\n",
       "    <tr>\n",
       "      <th>count</th>\n",
       "      <td>1030.000000</td>\n",
       "      <td>1030.000000</td>\n",
       "      <td>1030.000000</td>\n",
       "      <td>1030.000000</td>\n",
       "      <td>1030.000000</td>\n",
       "      <td>1030.000000</td>\n",
       "      <td>1030.000000</td>\n",
       "      <td>1030.000000</td>\n",
       "    </tr>\n",
       "    <tr>\n",
       "      <th>mean</th>\n",
       "      <td>-0.181882</td>\n",
       "      <td>-0.588782</td>\n",
       "      <td>-0.458387</td>\n",
       "      <td>-0.045251</td>\n",
       "      <td>-0.614617</td>\n",
       "      <td>-0.000471</td>\n",
       "      <td>-0.098944</td>\n",
       "      <td>-0.754604</td>\n",
       "    </tr>\n",
       "    <tr>\n",
       "      <th>std</th>\n",
       "      <td>0.477198</td>\n",
       "      <td>0.480130</td>\n",
       "      <td>0.639650</td>\n",
       "      <td>0.341122</td>\n",
       "      <td>0.371046</td>\n",
       "      <td>0.452058</td>\n",
       "      <td>0.402288</td>\n",
       "      <td>0.347087</td>\n",
       "    </tr>\n",
       "    <tr>\n",
       "      <th>min</th>\n",
       "      <td>-1.000000</td>\n",
       "      <td>-1.000000</td>\n",
       "      <td>-1.000000</td>\n",
       "      <td>-1.000000</td>\n",
       "      <td>-1.000000</td>\n",
       "      <td>-1.000000</td>\n",
       "      <td>-1.000000</td>\n",
       "      <td>-1.000000</td>\n",
       "    </tr>\n",
       "    <tr>\n",
       "      <th>25%</th>\n",
       "      <td>-0.587329</td>\n",
       "      <td>-1.000000</td>\n",
       "      <td>-1.000000</td>\n",
       "      <td>-0.311502</td>\n",
       "      <td>-1.000000</td>\n",
       "      <td>-0.238372</td>\n",
       "      <td>-0.312845</td>\n",
       "      <td>-0.967033</td>\n",
       "    </tr>\n",
       "    <tr>\n",
       "      <th>50%</th>\n",
       "      <td>-0.219635</td>\n",
       "      <td>-0.877574</td>\n",
       "      <td>-1.000000</td>\n",
       "      <td>0.009585</td>\n",
       "      <td>-0.602484</td>\n",
       "      <td>-0.029070</td>\n",
       "      <td>-0.069242</td>\n",
       "      <td>-0.851648</td>\n",
       "    </tr>\n",
       "    <tr>\n",
       "      <th>75%</th>\n",
       "      <td>0.132420</td>\n",
       "      <td>-0.204508</td>\n",
       "      <td>0.182409</td>\n",
       "      <td>0.121406</td>\n",
       "      <td>-0.366460</td>\n",
       "      <td>0.327907</td>\n",
       "      <td>0.154039</td>\n",
       "      <td>-0.697802</td>\n",
       "    </tr>\n",
       "    <tr>\n",
       "      <th>max</th>\n",
       "      <td>1.000000</td>\n",
       "      <td>1.000000</td>\n",
       "      <td>1.000000</td>\n",
       "      <td>1.000000</td>\n",
       "      <td>1.000000</td>\n",
       "      <td>1.000000</td>\n",
       "      <td>1.000000</td>\n",
       "      <td>1.000000</td>\n",
       "    </tr>\n",
       "  </tbody>\n",
       "</table>\n",
       "</div>"
      ],
      "text/plain": [
       "                X1           X2  ...           X7           X8\n",
       "count  1030.000000  1030.000000  ...  1030.000000  1030.000000\n",
       "mean     -0.181882    -0.588782  ...    -0.098944    -0.754604\n",
       "std       0.477198     0.480130  ...     0.402288     0.347087\n",
       "min      -1.000000    -1.000000  ...    -1.000000    -1.000000\n",
       "25%      -0.587329    -1.000000  ...    -0.312845    -0.967033\n",
       "50%      -0.219635    -0.877574  ...    -0.069242    -0.851648\n",
       "75%       0.132420    -0.204508  ...     0.154039    -0.697802\n",
       "max       1.000000     1.000000  ...     1.000000     1.000000\n",
       "\n",
       "[8 rows x 8 columns]"
      ]
     },
     "execution_count": 4,
     "metadata": {
      "tags": []
     },
     "output_type": "execute_result"
    }
   ],
   "source": [
    "# Using Scikit-learn MaxMinScaler: \n",
    "scaler = sklearn.preprocessing.MinMaxScaler(feature_range=(-1, 1))\n",
    "\n",
    "# extract attributes and scale data to have Min = 0 and Max = 1 :\n",
    "cols = X.columns\n",
    "print('Data Attributes:\\n', cols)\n",
    "print('\\nBefore Data Scaling:\\n', X.head(4))\n",
    "sc_X = scaler.fit_transform(X) # Fit scaler to data, then transform data to specified feature_range(0,1)\n",
    "\n",
    "# Turn the scaling results back into a dataframe :\n",
    "sc_X_df = pd.DataFrame(sc_X, columns = cols)\n",
    "X = sc_X_df\n",
    "print('\\nAfter Data Scaling:\\n', X.head(4))\n",
    "\n",
    "# Applying statistical Analysis on the data:\n",
    "X.describe()"
   ]
  },
  {
   "cell_type": "markdown",
   "metadata": {
    "id": "QIErOzHFs6HD"
   },
   "source": [
    "# **Random Forest Model Optimization**\n",
    "# Using 10-fold Cross-Validation"
   ]
  },
  {
   "cell_type": "code",
   "execution_count": 5,
   "metadata": {
    "id": "_nAW9fV2s7Yp"
   },
   "outputs": [],
   "source": [
    "def RFC_CV(max_depth_range,min_impurity_range):\n",
    "    \n",
    "  # Preparing the Model:\n",
    "  model = sklearn.ensemble.RandomForestClassifier(criterion='gini', random_state=1)\n",
    "\n",
    "  # Determining Model Hyperparameters to be tested and optimized:\n",
    "  paras = {'max_depth':max_depth_range, 'min_impurity_decrease':min_impurity_range}\n",
    "  # min_impurity_decrease is used instead of min_impurity_split as min_impurity_split is deprecated in favor of min_impurity_decrease.\n",
    "  # And the official scikit-learn manual advises to use min_impurity_decrease.\n",
    "\n",
    "  # Preparing Cross-Validation to be used to fit the Model and the Hyperparameters:\n",
    "  # Using 10-fold Cross-Validation:\n",
    "  gridCV = sklearn.model_selection.GridSearchCV(model, paras, cv=10, scoring='accuracy', verbose=10, n_jobs= -1)\n",
    "  gridCV.fit(X, y)\n",
    "\n",
    "  best_max_depth = gridCV.best_params_['max_depth']\n",
    "  best_min_impurity = gridCV.best_params_['min_impurity_decrease']\n",
    "  best_score = gridCV.best_score_\n",
    "  results = gridCV.cv_results_\n",
    "\n",
    "  return best_max_depth, best_min_impurity, best_score, results"
   ]
  },
  {
   "cell_type": "code",
   "execution_count": 6,
   "metadata": {
    "colab": {
     "base_uri": "https://localhost:8080/"
    },
    "id": "Z4Ghewfet79o",
    "outputId": "21388e62-df32-4786-fbf5-03d33405ba23"
   },
   "outputs": [
    {
     "name": "stdout",
     "output_type": "stream",
     "text": [
      "Fitting 10 folds for each of 25 candidates, totalling 250 fits\n"
     ]
    },
    {
     "name": "stderr",
     "output_type": "stream",
     "text": [
      "[Parallel(n_jobs=-1)]: Using backend LokyBackend with 2 concurrent workers.\n",
      "[Parallel(n_jobs=-1)]: Done   1 tasks      | elapsed:    1.4s\n",
      "[Parallel(n_jobs=-1)]: Done   4 tasks      | elapsed:    1.7s\n",
      "[Parallel(n_jobs=-1)]: Done   9 tasks      | elapsed:    2.5s\n",
      "[Parallel(n_jobs=-1)]: Done  14 tasks      | elapsed:    3.0s\n",
      "[Parallel(n_jobs=-1)]: Done  21 tasks      | elapsed:    4.0s\n",
      "[Parallel(n_jobs=-1)]: Done  28 tasks      | elapsed:    4.8s\n",
      "[Parallel(n_jobs=-1)]: Done  37 tasks      | elapsed:    6.0s\n",
      "[Parallel(n_jobs=-1)]: Done  46 tasks      | elapsed:    7.0s\n",
      "[Parallel(n_jobs=-1)]: Done  57 tasks      | elapsed:    8.7s\n",
      "[Parallel(n_jobs=-1)]: Done  68 tasks      | elapsed:   10.1s\n",
      "[Parallel(n_jobs=-1)]: Done  81 tasks      | elapsed:   12.1s\n",
      "[Parallel(n_jobs=-1)]: Done  94 tasks      | elapsed:   13.8s\n",
      "[Parallel(n_jobs=-1)]: Done 109 tasks      | elapsed:   16.1s\n",
      "[Parallel(n_jobs=-1)]: Done 124 tasks      | elapsed:   18.4s\n",
      "[Parallel(n_jobs=-1)]: Done 141 tasks      | elapsed:   21.1s\n",
      "[Parallel(n_jobs=-1)]: Done 158 tasks      | elapsed:   23.5s\n",
      "[Parallel(n_jobs=-1)]: Done 177 tasks      | elapsed:   26.8s\n",
      "[Parallel(n_jobs=-1)]: Done 196 tasks      | elapsed:   29.4s\n",
      "[Parallel(n_jobs=-1)]: Done 217 tasks      | elapsed:   32.7s\n",
      "[Parallel(n_jobs=-1)]: Done 238 tasks      | elapsed:   35.9s\n",
      "[Parallel(n_jobs=-1)]: Done 250 out of 250 | elapsed:   37.4s finished\n"
     ]
    }
   ],
   "source": [
    "best_max_depth, best_min_impurity, best_score, cv_results = RFC_CV([1, 5, 7, 12, 100],[0, 1e-10, 1e-5, 0.01, 0.1])"
   ]
  },
  {
   "cell_type": "code",
   "execution_count": 7,
   "metadata": {
    "colab": {
     "base_uri": "https://localhost:8080/"
    },
    "id": "sHYO063KuFHR",
    "outputId": "c1f25a31-dafb-420d-fcbd-6165b7bdfffc"
   },
   "outputs": [
    {
     "name": "stdout",
     "output_type": "stream",
     "text": [
      "best_max_depth = 7\n",
      "best_min_impurity = 1e-10\n",
      "Cross-Validation Mean Best Score for the Model = 0.770873786407767\n",
      "\n",
      "Cross-Validation Mean Test Scores\n",
      " [0.6592233  0.6592233  0.6592233  0.6592233  0.55436893 0.74854369\n",
      " 0.74854369 0.74854369 0.73106796 0.55436893 0.76990291 0.77087379\n",
      " 0.76893204 0.72621359 0.55436893 0.76990291 0.76504854 0.76601942\n",
      " 0.72718447 0.55436893 0.76213592 0.76504854 0.76699029 0.72718447\n",
      " 0.55436893]\n",
      "\n",
      "Split_1 Scores\n",
      " [0.55339806 0.55339806 0.55339806 0.55339806 0.52427184 0.74757282\n",
      " 0.74757282 0.74757282 0.67961165 0.52427184 0.73786408 0.73786408\n",
      " 0.73786408 0.67961165 0.52427184 0.72815534 0.72815534 0.72815534\n",
      " 0.67961165 0.52427184 0.72815534 0.72815534 0.72815534 0.67961165\n",
      " 0.52427184]\n",
      "best_score (Split_1) = 0.7475728155339806\n",
      "\n",
      "Split_2 Scores\n",
      " [0.7961165  0.7961165  0.7961165  0.7961165  0.48543689 0.67961165\n",
      " 0.67961165 0.67961165 0.63106796 0.48543689 0.6407767  0.6407767\n",
      " 0.6407767  0.60194175 0.48543689 0.66019417 0.66019417 0.66019417\n",
      " 0.60194175 0.48543689 0.66019417 0.65048544 0.65048544 0.60194175\n",
      " 0.48543689]\n",
      "best_score (Split_2) = 0.7961165048543689\n",
      "\n",
      "Split_3 Scores\n",
      " [0.86407767 0.86407767 0.86407767 0.86407767 0.52427184 0.82524272\n",
      " 0.82524272 0.82524272 0.87378641 0.52427184 0.83495146 0.83495146\n",
      " 0.83495146 0.86407767 0.52427184 0.82524272 0.82524272 0.81553398\n",
      " 0.87378641 0.52427184 0.81553398 0.80582524 0.80582524 0.87378641\n",
      " 0.52427184]\n",
      "best_score (Split_3) = 0.8737864077669902\n",
      "\n",
      "Split_4 Scores\n",
      " [0.46601942 0.46601942 0.46601942 0.46601942 0.3592233  0.57281553\n",
      " 0.57281553 0.57281553 0.54368932 0.3592233  0.60194175 0.60194175\n",
      " 0.59223301 0.58252427 0.3592233  0.5631068  0.53398058 0.53398058\n",
      " 0.58252427 0.3592233  0.53398058 0.55339806 0.5631068  0.58252427\n",
      " 0.3592233 ]\n",
      "best_score (Split_4) = 0.6019417475728155\n",
      "\n",
      "Split_5 Scores\n",
      " [0.7184466  0.7184466  0.7184466  0.7184466  0.69902913 0.76699029\n",
      " 0.76699029 0.76699029 0.75728155 0.69902913 0.76699029 0.76699029\n",
      " 0.76699029 0.76699029 0.69902913 0.76699029 0.76699029 0.76699029\n",
      " 0.76699029 0.69902913 0.76699029 0.76699029 0.76699029 0.76699029\n",
      " 0.69902913]\n",
      "best_score (Split_5) = 0.7669902912621359\n",
      "\n",
      "Split_6 Scores\n",
      " [0.57281553 0.57281553 0.57281553 0.57281553 0.65048544 0.74757282\n",
      " 0.74757282 0.74757282 0.76699029 0.65048544 0.77669903 0.78640777\n",
      " 0.78640777 0.70873786 0.65048544 0.74757282 0.74757282 0.76699029\n",
      " 0.70873786 0.65048544 0.7184466  0.73786408 0.74757282 0.70873786\n",
      " 0.65048544]\n",
      "best_score (Split_6) = 0.7864077669902912\n",
      "\n",
      "Split_7 Scores\n",
      " [0.80582524 0.80582524 0.80582524 0.80582524 0.66019417 0.78640777\n",
      " 0.78640777 0.78640777 0.76699029 0.66019417 0.81553398 0.81553398\n",
      " 0.81553398 0.76699029 0.66019417 0.7961165  0.7961165  0.7961165\n",
      " 0.76699029 0.66019417 0.78640777 0.7961165  0.7961165  0.76699029\n",
      " 0.66019417]\n",
      "best_score (Split_7) = 0.8155339805825242\n",
      "\n",
      "Split_8 Scores\n",
      " [0.5631068  0.5631068  0.5631068  0.5631068  0.52427184 0.62135922\n",
      " 0.62135922 0.62135922 0.66019417 0.52427184 0.69902913 0.69902913\n",
      " 0.69902913 0.66019417 0.52427184 0.66990291 0.66990291 0.66019417\n",
      " 0.66019417 0.52427184 0.67961165 0.67961165 0.67961165 0.66019417\n",
      " 0.52427184]\n",
      "best_score (Split_8) = 0.6990291262135923\n",
      "\n",
      "Split_9 Scores\n",
      " [0.66019417 0.66019417 0.66019417 0.66019417 0.59223301 0.87378641\n",
      " 0.87378641 0.87378641 0.83495146 0.59223301 0.90291262 0.90291262\n",
      " 0.89320388 0.81553398 0.59223301 0.96116505 0.95145631 0.95145631\n",
      " 0.81553398 0.59223301 0.95145631 0.95145631 0.95145631 0.81553398\n",
      " 0.59223301]\n",
      "best_score (Split_9) = 0.9611650485436893\n",
      "\n",
      "Split_10 Scores\n",
      " [0.59223301 0.59223301 0.59223301 0.59223301 0.52427184 0.86407767\n",
      " 0.86407767 0.86407767 0.7961165  0.52427184 0.9223301  0.9223301\n",
      " 0.9223301  0.81553398 0.52427184 0.98058252 0.97087379 0.98058252\n",
      " 0.81553398 0.52427184 0.98058252 0.98058252 0.98058252 0.81553398\n",
      " 0.52427184]\n",
      "best_score (Split_10) = 0.9805825242718447\n"
     ]
    }
   ],
   "source": [
    "print('best_max_depth =',best_max_depth)\n",
    "print('best_min_impurity =',best_min_impurity)\n",
    "print('Cross-Validation Mean Best Score for the Model =',best_score)\n",
    "print('\\nCross-Validation Mean Test Scores\\n', cv_results['mean_test_score'])\n",
    "\n",
    "for i in range(10):\n",
    "  print('\\nSplit_'+str(i+1)+' Scores\\n',cv_results['split'+str(i)+'_test_score'])\n",
    "  print('best_score (Split_'+str(i+1)+') =', max(cv_results['split'+str(i)+'_test_score']))"
   ]
  },
  {
   "cell_type": "markdown",
   "metadata": {
    "id": "mcLRjfpaQ_ym"
   },
   "source": [
    "# **Data Fixed Single Splitting**\n",
    "(70% Training and 30% Testing)"
   ]
  },
  {
   "cell_type": "code",
   "execution_count": 8,
   "metadata": {
    "colab": {
     "base_uri": "https://localhost:8080/"
    },
    "id": "ljbu12o3Q_jk",
    "outputId": "1b4f0e8b-e6ea-4865-9d4b-9cf4f8204db2"
   },
   "outputs": [
    {
     "name": "stdout",
     "output_type": "stream",
     "text": [
      "(721, 8)\n",
      "           X1        X2        X3  ...        X6        X7        X8\n",
      "185 -0.450228 -1.000000 -0.033483  ... -0.034302  0.386352 -0.928571\n",
      "286 -0.637443 -1.000000  0.669165  ...  0.480233 -0.077772 -0.851648\n",
      "600  0.082192 -1.000000 -1.000000  ... -0.029070 -0.061716 -0.928571\n",
      "691 -0.497717 -0.213689 -1.000000  ...  0.002326 -0.217260 -0.989011\n",
      "\n",
      "[4 rows x 8 columns]\n",
      "(721,)\n",
      "(309, 8)\n",
      "           X1        X2        X3  ...        X6        X7        X8\n",
      "339 -0.108676 -1.000000  0.174413  ...  0.289535 -0.199699 -0.989011\n",
      "244 -0.378539 -1.000000 -0.059470  ... -0.134302  0.269443 -0.989011\n",
      "882 -0.826484 -0.259878  0.029485  ... -0.331395 -0.202208 -0.851648\n",
      "567 -0.536530 -0.244853 -1.000000  ...  0.600000 -0.170597 -0.967033\n",
      "\n",
      "[4 rows x 8 columns]\n",
      "(309,)\n"
     ]
    }
   ],
   "source": [
    "# Dividing samples dataset into training and test datasets:\n",
    "def dataset_divide(X, y):\n",
    "  X_train, X_test, y_train, y_test = sklearn.model_selection.train_test_split(X, y, train_size=0.70, random_state=1)\n",
    "  return X_train, X_test, y_train, y_test\n",
    "\n",
    "X_train, X_test, y_train, y_test = dataset_divide(X,y)\n",
    "print(X_train.shape)\n",
    "print(X_train.head(4))\n",
    "print(y_train.shape)\n",
    "print(X_test.shape)\n",
    "print(X_test.head(4))\n",
    "print(y_test.shape)"
   ]
  },
  {
   "cell_type": "markdown",
   "metadata": {
    "id": "HgCGyK87K1GZ"
   },
   "source": [
    "# **Random Forest Final Optimized Model**"
   ]
  },
  {
   "cell_type": "code",
   "execution_count": 9,
   "metadata": {
    "id": "QAUmCLFQK0Yw"
   },
   "outputs": [],
   "source": [
    "# RF Classification Model:\n",
    "def RF_Classification(X,y, optimum_max_depth=7, optimum_min_impurity=1e-10):\n",
    "  model = sklearn.ensemble.RandomForestClassifier(criterion='gini', max_depth = optimum_max_depth, min_impurity_decrease = optimum_min_impurity, random_state=1)\n",
    "  model.fit(X, y)\n",
    "\n",
    "  return model"
   ]
  },
  {
   "cell_type": "code",
   "execution_count": 10,
   "metadata": {
    "colab": {
     "base_uri": "https://localhost:8080/",
     "height": 652
    },
    "id": "ydw0iPctM9Li",
    "outputId": "b1ecc330-1bea-4987-c133-e558fb6e4f81"
   },
   "outputs": [
    {
     "name": "stdout",
     "output_type": "stream",
     "text": [
      "Score of Model Evaluation with Testing Data = 0.8511326860841424\n",
      "rmse_test =  0.7716665443463455\n",
      "pcc_test =  0.7021873952396918\n",
      "scc_test =  0.7021873952396916\n"
     ]
    },
    {
     "data": {
      "image/png": "[encoded data removed]",
      "text/plain": [
       "<Figure size 432x288 with 1 Axes>"
      ]
     },
     "metadata": {
      "needs_background": "light",
      "tags": []
     },
     "output_type": "display_data"
    },
    {
     "name": "stdout",
     "output_type": "stream",
     "text": [
      "Score of Model Evaluation with Training Data = 0.9805825242718447\n",
      "rmse_train =  0.2786932057166471\n",
      "pcc_train =  0.9611069287996159\n",
      "scc_train =  0.961106928799616\n"
     ]
    },
    {
     "data": {
      "image/png": "[encoded data removed]",
      "text/plain": [
       "<Figure size 432x288 with 1 Axes>"
      ]
     },
     "metadata": {
      "needs_background": "light",
      "tags": []
     },
     "output_type": "display_data"
    }
   ],
   "source": [
    "# RF Classification Model Training:\n",
    "RF_Model = RF_Classification(X_train, y_train)\n",
    "\n",
    "# RF Classification Model Evaluation on Testing Data:\n",
    "current_score = RF_Model.score(X_test,y_test)\n",
    "y_test_hat = RF_Model.predict(X_test) # testing output\n",
    "\n",
    "print('Score of Model Evaluation with Testing Data =', current_score)\n",
    "# RMSE\n",
    "rmse_test = sklearn.metrics.mean_squared_error(y_test, y_test_hat, squared=False)\n",
    "print('rmse_test = ',rmse_test)\n",
    "\n",
    "# Pearson's correlation\n",
    "pcc_test = scipy.stats.pearsonr(y_test, y_test_hat)[0]\n",
    "print ('pcc_test = ', pcc_test)\n",
    "\n",
    "#Spearman's correlation\n",
    "scc_test = scipy.stats.spearmanr(y_test, y_test_hat)[0]\n",
    "print ('scc_test = ', scc_test)\n",
    "\n",
    "matplotlib.pyplot.scatter(y_test,y_test_hat)\n",
    "matplotlib.pyplot.show()\n",
    "\n",
    "# RF Classification Model Evaluation on Training Data:\n",
    "current_score = RF_Model.score(X_train,y_train)\n",
    "y_train_hat = RF_Model.predict(X_train) # testing output\n",
    "\n",
    "print('Score of Model Evaluation with Training Data =', current_score)\n",
    "# RMSE\n",
    "rmse_train = sklearn.metrics.mean_squared_error(y_train, y_train_hat, squared=False)\n",
    "print('rmse_train = ',rmse_train)\n",
    "# Pearson's correlation\n",
    "pcc_train = scipy.stats.pearsonr(y_train, y_train_hat)[0]\n",
    "print ('pcc_train = ', pcc_train)\n",
    "\n",
    "#Spearman's correlation\n",
    "scc_train = scipy.stats.spearmanr(y_train, y_train_hat)[0]\n",
    "print ('scc_train = ', scc_train)\n",
    "\n",
    "matplotlib.pyplot.scatter(y_train,y_train_hat)\n",
    "matplotlib.pyplot.show()"
   ]
  }
 ],
 "metadata": {
  "colab": {
   "collapsed_sections": [],
   "name": "Final_RF.ipynb",
   "provenance": []
  },
  "kernelspec": {
   "display_name": "Python 3",
   "language": "python",
   "name": "python3"
  },
  "language_info": {
   "codemirror_mode": {
    "name": "ipython",
    "version": 3
   },
   "file_extension": ".py",
   "mimetype": "text/x-python",
   "name": "python",
   "nbconvert_exporter": "python",
   "pygments_lexer": "ipython3",
   "version": "3.8.5"
  }
 },
 "nbformat": 4,
 "nbformat_minor": 1
}
